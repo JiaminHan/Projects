{
 "cells": [
  {
   "cell_type": "code",
   "execution_count": 2,
   "metadata": {},
   "outputs": [
    {
     "name": "stderr",
     "output_type": "stream",
     "text": [
      "C:\\Users\\zshi\\AppData\\Local\\Continuum\\anaconda3\\lib\\site-packages\\statsmodels\\compat\\pandas.py:56: FutureWarning: The pandas.core.datetools module is deprecated and will be removed in a future version. Please use the pandas.tseries module instead.\n",
      "  from pandas.core import datetools\n",
      "C:\\Users\\zshi\\AppData\\Local\\Continuum\\anaconda3\\lib\\site-packages\\sklearn\\cross_validation.py:41: DeprecationWarning: This module was deprecated in version 0.18 in favor of the model_selection module into which all the refactored classes and functions are moved. Also note that the interface of the new CV iterators are different from that of this module. This module will be removed in 0.20.\n",
      "  \"This module will be removed in 0.20.\", DeprecationWarning)\n"
     ]
    }
   ],
   "source": [
    "#!pip install sklearn-pandas\n",
    "\n",
    "import sqlite3\n",
    "import pandas as pd\n",
    "import sklearn\n",
    "import numpy as np\n",
    "import statsmodels.api as sm\n",
    "import matplotlib.pyplot as plt\n",
    "import scipy\n",
    "import re\n",
    "import glob\n",
    "import sys\n",
    "import os\n",
    "import re\n",
    "import csv\n",
    "import math\n",
    "from datetime import datetime\n",
    "\n",
    "from patsy import dmatrices\n",
    "from sklearn.linear_model import LogisticRegression\n",
    "from sklearn.cross_validation import train_test_split\n",
    "from sklearn import metrics\n",
    "from sklearn.cross_validation import cross_val_score\n",
    "from sklearn.preprocessing import Imputer, StandardScaler, LabelEncoder, OneHotEncoder\n",
    "from sklearn.svm import SVC\n",
    "from sklearn_pandas import DataFrameMapper, CategoricalImputer\n",
    "from sklearn.svm import LinearSVR\n",
    "from sklearn.metrics import roc_auc_score\n",
    "from sklearn.metrics import roc_curve\n",
    "from sklearn.metrics import accuracy_score\n",
    "\n"
   ]
  },
  {
   "cell_type": "code",
   "execution_count": null,
   "metadata": {},
   "outputs": [],
   "source": [
    "# NOT IN USE\n",
    "\n",
    "# # set up sqlite database\n",
    "# conn = sqlite3.connect('C:\\\\Users\\\\zshi\\\\Downloads\\\\lending-club-loan-data\\\\database.sqlite')\n",
    "# c = conn.cursor()\n",
    "# cursor = c.execute('select * from loan')\n",
    "\n",
    "# # read data from the sqlite database\n",
    "# names = list(map(lambda x: x[0], cursor.description))\n",
    "# c.execute(\"SELECT * FROM loan;\")\n",
    "# available_table=(c.fetchall())\n",
    "# lc = pd.DataFrame(available_table)\n",
    "# lc.columns = names"
   ]
  },
  {
   "cell_type": "markdown",
   "metadata": {},
   "source": [
    "# Loading data"
   ]
  },
  {
   "cell_type": "code",
   "execution_count": null,
   "metadata": {},
   "outputs": [],
   "source": [
    "# read data between 2007-2018\n",
    "\n",
    "path =r'H:\\\\lending-club-loan-data\\\\raw data' \n",
    "all_files = glob.glob(os.path.join(path, \"*.csv\"))     \n",
    "df_from_each_file = (pd.read_csv(f,skiprows=[0],header=0,low_memory=False) for f in all_files)\n",
    "lc_all   = pd.concat(df_from_each_file, ignore_index=True)"
   ]
  },
  {
   "cell_type": "code",
   "execution_count": null,
   "metadata": {
    "scrolled": false
   },
   "outputs": [],
   "source": [
    "# examine data type\n",
    "print(lc_all.info())"
   ]
  },
  {
   "cell_type": "code",
   "execution_count": null,
   "metadata": {},
   "outputs": [],
   "source": [
    "# restrict to loans with final status\n",
    "lc_all = lc_all.loc[(lc_all['loan_status'] != 'Current') & (lc_all['loan_status'] != 'Issued')]\n",
    "lc_all.loan_status.value_counts()"
   ]
  },
  {
   "cell_type": "code",
   "execution_count": null,
   "metadata": {},
   "outputs": [],
   "source": [
    "# export combined new data\n",
    "\n",
    "lc_all.to_csv('H:\\\\lending-club-loan-data\\\\lc_all.gz', compression='gzip')"
   ]
  },
  {
   "cell_type": "code",
   "execution_count": null,
   "metadata": {},
   "outputs": [],
   "source": [
    "# load newer data from combined csv file\n",
    "\n",
    "lc_all = pd.read_csv('H:\\\\lending-club-loan-data\\\\lc_all.gz', compression='gzip',low_memory=False)"
   ]
  },
  {
   "cell_type": "markdown",
   "metadata": {},
   "source": [
    "# Data cleaning"
   ]
  },
  {
   "cell_type": "code",
   "execution_count": null,
   "metadata": {},
   "outputs": [],
   "source": [
    "# check distribution of loan status\n",
    "lc_all['loan_status'].value_counts()"
   ]
  },
  {
   "cell_type": "code",
   "execution_count": null,
   "metadata": {},
   "outputs": [],
   "source": [
    "# recode loan status as binary\n",
    "def bin_loan (x):\n",
    "   if (x == 'Fully Paid') | (x == 'Does not meet the credit policy. Status:Fully Paid'):\n",
    "      return 0\n",
    "   return 1\n",
    "\n",
    "lc_all['loan_status_bin'] = lc_all['loan_status'].apply(bin_loan)\n",
    "\n",
    "# check recoded frequency\n",
    "pd.crosstab( lc_all['loan_status'], lc_all['loan_status_bin'],\n",
    "            rownames=['Original status'], colnames=['Binary status'])"
   ]
  },
  {
   "cell_type": "code",
   "execution_count": null,
   "metadata": {},
   "outputs": [],
   "source": [
    "# plot correlation matrix\n",
    "plt.figure(figsize=(11,11))\n",
    "plt.matshow(lc_all.corr(), fignum=1)"
   ]
  },
  {
   "cell_type": "code",
   "execution_count": null,
   "metadata": {},
   "outputs": [],
   "source": [
    "# cleaning & creating variables\n",
    "\n",
    "\n",
    "# convert interest rate to numeric\n",
    "lc_all['int_rate_n'] = lc_all['int_rate'] = lc_all['int_rate'].str.replace(\"%\", \"\").str.replace(\" \", \"\")\n",
    "lc_all['int_rate_n'] = pd.to_numeric(lc_all['int_rate_n'])\n",
    "\n",
    "\n",
    "# recode employ years\n",
    "def recode_empyear (x):\n",
    "    if x=='10+ years':\n",
    "        return '10+ years'\n",
    "    elif (x=='< 1 year')|(x=='1 year')|(x=='2 years')|(x=='3 years')|(x=='4 years')|(x=='5 years'):\n",
    "        return '1-5 years'\n",
    "    else:\n",
    "        return '5-10 years'\n",
    "\n",
    "lc_all['emp_length_n'] = lc_all['emp_length'].apply(recode_empyear)\n",
    "\n",
    "\n",
    "# recode home ownership\n",
    "def recode_home (x):\n",
    "    if (x=='NONE')|(x=='ANY')|(x=='OTHER'):\n",
    "        return 'OTHER'\n",
    "    else:\n",
    "        return x\n",
    "\n",
    "lc_all['home_ownership_n'] = lc_all['home_ownership'].apply(recode_home)\n",
    "lc_all['home_ownership_n'].value_counts()\n",
    "\n",
    "\n",
    "# convert revol_util to numeric\n",
    "lc_all['revol_util_n'] = lc_all['revol_util'].str.replace(\"%\", \"\")\n",
    "lc_all['revol_util_n'] = pd.to_numeric(lc_all['revol_util_n'])\n",
    "\n",
    "\n",
    "# calcualte mean fico score\n",
    "lc_all['fico_avg'] = (lc_all['fico_range_high'] + lc_all['fico_range_low'])/2\n",
    "\n",
    "\n",
    "# get length of loan description\n",
    "def desc_len (x):\n",
    "    if x=='nan':\n",
    "        return ''\n",
    "    else:\n",
    "        return re.sub(\".*> |<br>|<br/>\", \"\", x)\n",
    "    \n",
    "lc_all['desc1'] = lc_all['desc'].astype(str)\n",
    "lc_all['desc1'] = lc_all['desc1'].apply(desc_len)\n",
    "lc_all['desc1'] = lc_all['desc1'].str.len()\n",
    "\n",
    "\n",
    "# calculate time since first credit line\n",
    "now = datetime.now()\n",
    "def credit_age (x):\n",
    "    if x != 'nan':\n",
    "        c1 = datetime.strptime(x, '%b-%Y')\n",
    "        return (now-c1).days/365.25\n",
    "        #return c1\n",
    "    else:\n",
    "        return None\n",
    "\n",
    "lc_all['earliest_cr_line_n'] = lc_all['earliest_cr_line'].astype(str)\n",
    "lc_all['earliest_cr_line_n'] = lc_all['earliest_cr_line_n'].apply(credit_age)\n",
    "\n",
    "\n",
    "# create region of residence based on state\n",
    "west = ['CA', 'OR', 'UT','WA', 'CO', 'NV', 'AK', 'MT', 'HI', 'WY', 'ID']\n",
    "south_west = ['AZ', 'TX', 'NM', 'OK']\n",
    "south_east = ['GA', 'NC', 'VA', 'FL', 'KY', 'SC', 'LA', 'AL', 'WV', 'DC', 'AR', 'DE', 'MS', 'TN' ]\n",
    "mid_west = ['IL', 'MO', 'MN', 'OH', 'WI', 'KS', 'MI', 'SD', 'IA', 'NE', 'IN', 'ND']\n",
    "north_east = ['CT', 'NY', 'PA', 'NJ', 'RI','MA', 'MD', 'VT', 'NH', 'ME']\n",
    "\n",
    "def finding_regions(state):\n",
    "    if state in west:\n",
    "        return 'West'\n",
    "    elif state in south_west:\n",
    "        return 'SouthWest'\n",
    "    elif state in south_east:\n",
    "        return 'SouthEast'\n",
    "    elif state in mid_west:\n",
    "        return 'MidWest'\n",
    "    elif state in north_east:\n",
    "        return 'NorthEast'\n",
    "    \n",
    "lc_all['region'] = lc_all['addr_state'].apply(finding_regions)\n",
    "\n",
    "# drop rows without region value\n",
    "lc_all.dropna(subset=['region'],inplace=True)\n",
    "\n",
    "\n",
    "# create year when loan issued\n",
    "dt_series = pd.to_datetime(lc_all['issue_d'])\n",
    "lc_all['year'] = dt_series.dt.year\n",
    "\n",
    "# recode loan purpose \n",
    "lc_all['purpose_g'] = np.nan\n",
    "\n",
    "lc_all.loc[(lc_all['purpose'] == 'debt_consolidation')|(lc_all['purpose'] ==\"credit_card\"), 'purpose_g'] = 'debt' \n",
    "lc_all.loc[(lc_all['purpose'] == 'home_improvement')|(lc_all['purpose'] ==\"major_purchase\")|\n",
    "                 (lc_all['purpose'] == 'car')|(lc_all['purpose'] ==\"house\")|\n",
    "                 (lc_all['purpose'] == 'vacation')|(lc_all['purpose'] ==\"renewable_energy\"),\n",
    "                 'purpose_g'] = 'major_purchase' \n",
    "lc_all.loc[(lc_all['purpose'] == 'small_business')|(lc_all['purpose'] ==\"medical\")|\n",
    "                 (lc_all['purpose'] == 'moving')|(lc_all['purpose'] ==\"wedding\")|\n",
    "                 (lc_all['purpose'] == 'educational'),\n",
    "                 'purpose_g'] = 'life_event'\n",
    "lc_all.loc[(lc_all['purpose'] == 'other'), 'purpose_g'] = 'other'"
   ]
  },
  {
   "cell_type": "code",
   "execution_count": null,
   "metadata": {},
   "outputs": [],
   "source": [
    "# Handling Missing Numeric Values\n",
    "\n",
    "# Copy Dataframe\n",
    "complete_lc_all = lc_all.copy()\n",
    "\n",
    "# fill zero for the numeric dataframe\n",
    "for col in ('dti_joint', 'annual_inc_joint', 'il_util', 'mths_since_rcnt_il', 'open_il_12m',\n",
    "           'open_il_24m', 'inq_last_12m', 'open_rv_12m', 'open_rv_24m', 'max_bal_bc', 'all_util', 'inq_fi', 'total_cu_tl',\n",
    "           'mths_since_last_record', 'mths_since_last_major_derog', 'mths_since_last_delinq', 'total_bal_il', 'tot_coll_amt',\n",
    "           'tot_cur_bal', 'total_rev_hi_lim', 'revol_util_n', 'collections_12_mths_ex_med', 'open_acc', 'inq_last_6mths',\n",
    "           'verification_status_joint', 'acc_now_delinq'):\n",
    "    complete_lc_all[col] = complete_lc_all[col].fillna(0)\n",
    "    \n",
    "# fill mode for when the last credit was pulled\n",
    "#complete_lc_all[\"last_credit_pull_d\"] = complete_lc_all.groupby(\"region\")[\"last_credit_pull_d\"].transform(lambda x: x.fillna(x.mode))\n",
    "\n",
    "# fill median for fico score\n",
    "complete_lc_all[\"fico_avg\"] = complete_lc_all.groupby(\"region\")[\"fico_avg\"].transform(lambda x: x.fillna(x.median()))\n",
    "\n",
    "# fill median for interest rate\n",
    "complete_lc_all[\"int_rate_n\"] = complete_lc_all.groupby(\"region\")[\"int_rate_n\"].transform(lambda x: x.fillna(x.median()))\n",
    "\n",
    "# fill median for credit age\n",
    "complete_lc_all[\"earliest_cr_line_n\"] = complete_lc_all.groupby(\"region\")[\"earliest_cr_line_n\"].transform(lambda x: x.fillna(x.median()))\n",
    "\n",
    "# fill median for public records\n",
    "complete_lc_all[\"pub_rec\"] = complete_lc_all.groupby(\"region\")[\"pub_rec\"].transform(lambda x: x.fillna(x.median()))\n",
    "\n",
    "# fill median for annual income depending in the region the client is located.\n",
    "complete_lc_all[\"annual_inc\"] = complete_lc_all.groupby(\"region\")[\"annual_inc\"].transform(lambda x: x.fillna(x.median()))\n",
    "\n",
    "# fill mode for home ownership\n",
    "complete_lc_all[\"home_ownership_n\"] = complete_lc_all.groupby(\"region\")[\"home_ownership_n\"].transform(lambda x: x.fillna(x.mode()))\n",
    "\n",
    "# fill median for credit lines the borrower has \n",
    "complete_lc_all[\"total_acc\"] = complete_lc_all.groupby(\"region\")[\"total_acc\"].transform(lambda x: x.fillna(x.median()))\n",
    "\n",
    "# fill median for number of delinquencies in the past two years.\n",
    "complete_lc_all[\"delinq_2yrs\"] = complete_lc_all.groupby(\"region\")[\"delinq_2yrs\"].transform(lambda x: x.fillna(x.median()))\n"
   ]
  },
  {
   "cell_type": "code",
   "execution_count": null,
   "metadata": {},
   "outputs": [],
   "source": [
    "# get non-none values for each col\n",
    "var_n = pd.DataFrame(complete_lc_all.count()).reset_index()\n",
    "var_n.columns=['index', 'n']\n",
    "\n",
    "# get correlation with binary outcome\n",
    "var_cor = pd.DataFrame((complete_lc_all.corr()['loan_status_bin'])).reset_index()\n",
    "var_cor.columns=['index', 'correlation']\n",
    "\n",
    "# get data type\n",
    "var_type = pd.DataFrame(complete_lc_all.dtypes).reset_index()\n",
    "var_type.columns=['index', 'type']\n",
    "var_type\n",
    "\n",
    "# load data dictionary\n",
    "var_dict = pd.read_csv('H:\\\\lending-club-loan-data\\\\dictionary.csv', encoding = \"ISO-8859-1\")\n",
    "var_dict.columns = ['index','Description']"
   ]
  },
  {
   "cell_type": "code",
   "execution_count": null,
   "metadata": {},
   "outputs": [],
   "source": [
    "# function to compare test correlation between each var vs. loan status\n",
    "\n",
    "def do_test(x):\n",
    "    # do t test for continuous var\n",
    "    if (x.dtypes == 'float64') | (x.dtypes == 'int64'):\n",
    "        group1, group2 = [g[1] for g in x.groupby(complete_lc_all['loan_status_bin'])]\n",
    "        t, p = scipy.stats.ttest_ind(group1, group2,nan_policy='omit')\n",
    "        if np.isnan(np.ma.getdata(t)):\n",
    "            p=1\n",
    "        return p\n",
    "    \n",
    "    # do chi squared test for categorical var\n",
    "    if x.dtypes == 'object':\n",
    "        observed = pd.crosstab(x, complete_lc_all['loan_status_bin'])\n",
    "        chi, p = scipy.stats.chi2_contingency(observed, correction=False)[0:2]\n",
    "        return p"
   ]
  },
  {
   "cell_type": "code",
   "execution_count": null,
   "metadata": {},
   "outputs": [],
   "source": [
    "# calculate p values for all variables\n",
    "pval = pd.DataFrame(complete_lc_all.apply(do_test)).reset_index()\n",
    "pval.columns=['index', 'p']"
   ]
  },
  {
   "cell_type": "code",
   "execution_count": null,
   "metadata": {
    "scrolled": true
   },
   "outputs": [],
   "source": [
    "# merger p value and variable info together and sort\n",
    "var_info = pd.merge(var_n, pval, how='left', on=['index'])\n",
    "var_info = pd.merge(var_info, var_type, how='left', on=['index'])\n",
    "var_info = pd.merge(var_info, var_dict, how='left', on=['index'])\n",
    "var_select = var_info.loc[((var_info['n']/len(lc_all)>.95)) & (var_info['p'] < 0.05/len(var_info))]\n",
    "var_select.to_csv('H:\\\\lending-club-loan-data\\\\selected vars.csv')\n",
    "\n",
    "print('Total number of variables selected =',len(var_select))\n",
    "print('Type of variables:')\n",
    "print(var_select['type'].value_counts())\n",
    "\n",
    "plt.plot(var_select['p'],'ro')\n",
    "var_select.sort_values(by=['index'])\n"
   ]
  },
  {
   "cell_type": "code",
   "execution_count": null,
   "metadata": {},
   "outputs": [],
   "source": [
    "# check weired income data\n",
    "\n",
    "lc_all.annual_inc.hist()"
   ]
  },
  {
   "cell_type": "code",
   "execution_count": null,
   "metadata": {},
   "outputs": [],
   "source": [
    "# save the cleaned data\n",
    "\n",
    "complete_lc_all.to_csv('H:\\\\lending-club-loan-data\\\\complete_lc_all.gz', compression='gzip')"
   ]
  },
  {
   "cell_type": "markdown",
   "metadata": {},
   "source": [
    "# Read cleaned final data here:"
   ]
  },
  {
   "cell_type": "code",
   "execution_count": null,
   "metadata": {},
   "outputs": [],
   "source": [
    "# load cleaned data csv file, change to the correct path\n",
    "\n",
    "complete_lc_all = pd.read_csv('H:\\\\lending-club-loan-data\\\\complete_lc_all.gz', compression='gzip',low_memory=False)"
   ]
  },
  {
   "cell_type": "markdown",
   "metadata": {},
   "source": [
    "# Under-resampling to reduce imbalance"
   ]
  },
  {
   "cell_type": "code",
   "execution_count": 4,
   "metadata": {},
   "outputs": [],
   "source": [
    "# Class count\n",
    "count_class_0, count_class_1 = complete_lc_all.loan_status_bin.value_counts()\n",
    "\n",
    "# Divide by class\n",
    "df_class_0 = complete_lc_all[complete_lc_all['loan_status_bin'] == 0]\n",
    "df_class_1 = complete_lc_all[complete_lc_all['loan_status_bin'] == 1]"
   ]
  },
  {
   "cell_type": "code",
   "execution_count": 5,
   "metadata": {},
   "outputs": [
    {
     "name": "stdout",
     "output_type": "stream",
     "text": [
      "Random under-sampling:\n",
      "1    247213\n",
      "0    247213\n",
      "Name: loan_status_bin, dtype: int64\n"
     ]
    },
    {
     "data": {
      "image/png": "[encoded data removed]",
      "text/plain": [
       "<matplotlib.figure.Figure at 0x1cfbba5dc18>"
      ]
     },
     "metadata": {},
     "output_type": "display_data"
    }
   ],
   "source": [
    "# random sampling\n",
    "df_class_0_under = df_class_0.sample(count_class_1)\n",
    "lc_under = pd.concat([df_class_0_under, df_class_1], axis=0)\n",
    "\n",
    "print('Random under-sampling:')\n",
    "print(lc_under.loan_status_bin.value_counts())\n",
    "\n",
    "lc_under.loan_status_bin.value_counts().plot(kind='bar', title='Count (target)');"
   ]
  },
  {
   "cell_type": "markdown",
   "metadata": {},
   "source": [
    "# Data preparation for modeling"
   ]
  },
  {
   "cell_type": "code",
   "execution_count": 6,
   "metadata": {},
   "outputs": [
    {
     "name": "stdout",
     "output_type": "stream",
     "text": [
      "Index(['Intercept', 'emp_length_n[T.10+ years]', 'emp_length_n[T.5-10 years]',\n",
      "       'home_ownership_n[T.OTHER]', 'home_ownership_n[T.OWN]',\n",
      "       'home_ownership_n[T.RENT]', 'purpose_g[T.life_event]',\n",
      "       'purpose_g[T.major_purchase]', 'purpose_g[T.other]',\n",
      "       'term[T. 60 months]', 'verification_status[T.Source Verified]',\n",
      "       'verification_status[T.Verified]', 'application_type[T.Joint App]',\n",
      "       'grade[T.B]', 'grade[T.C]', 'grade[T.D]', 'grade[T.E]', 'grade[T.F]',\n",
      "       'grade[T.G]', 'region[T.NorthEast]', 'region[T.SouthEast]',\n",
      "       'region[T.SouthWest]', 'region[T.West]', 'annual_inc',\n",
      "       'chargeoff_within_12_mths', 'delinq_2yrs', 'dti', 'inq_last_6mths',\n",
      "       'loan_amnt', 'open_acc', 'pub_rec', 'pub_rec_bankruptcies',\n",
      "       'revol_util_n', 'revol_bal', 'total_acc', 'earliest_cr_line_n',\n",
      "       'fico_avg', 'desc1', 'int_rate_n', 'year', 'installment'],\n",
      "      dtype='object')\n",
      "<class 'pandas.core.frame.DataFrame'>\n",
      "Int64Index: 493697 entries, 398066 to 1061093\n",
      "Data columns (total 41 columns):\n",
      "Intercept                                 493697 non-null float64\n",
      "emp_length_n[T.10+ years]                 493697 non-null float64\n",
      "emp_length_n[T.5-10 years]                493697 non-null float64\n",
      "home_ownership_n[T.OTHER]                 493697 non-null float64\n",
      "home_ownership_n[T.OWN]                   493697 non-null float64\n",
      "home_ownership_n[T.RENT]                  493697 non-null float64\n",
      "purpose_g[T.life_event]                   493697 non-null float64\n",
      "purpose_g[T.major_purchase]               493697 non-null float64\n",
      "purpose_g[T.other]                        493697 non-null float64\n",
      "term[T. 60 months]                        493697 non-null float64\n",
      "verification_status[T.Source Verified]    493697 non-null float64\n",
      "verification_status[T.Verified]           493697 non-null float64\n",
      "application_type[T.Joint App]             493697 non-null float64\n",
      "grade[T.B]                                493697 non-null float64\n",
      "grade[T.C]                                493697 non-null float64\n",
      "grade[T.D]                                493697 non-null float64\n",
      "grade[T.E]                                493697 non-null float64\n",
      "grade[T.F]                                493697 non-null float64\n",
      "grade[T.G]                                493697 non-null float64\n",
      "region[T.NorthEast]                       493697 non-null float64\n",
      "region[T.SouthEast]                       493697 non-null float64\n",
      "region[T.SouthWest]                       493697 non-null float64\n",
      "region[T.West]                            493697 non-null float64\n",
      "annual_inc                                493697 non-null float64\n",
      "chargeoff_within_12_mths                  493697 non-null float64\n",
      "delinq_2yrs                               493697 non-null float64\n",
      "dti                                       493697 non-null float64\n",
      "inq_last_6mths                            493697 non-null float64\n",
      "loan_amnt                                 493697 non-null float64\n",
      "open_acc                                  493697 non-null float64\n",
      "pub_rec                                   493697 non-null float64\n",
      "pub_rec_bankruptcies                      493697 non-null float64\n",
      "revol_util_n                              493697 non-null float64\n",
      "revol_bal                                 493697 non-null float64\n",
      "total_acc                                 493697 non-null float64\n",
      "earliest_cr_line_n                        493697 non-null float64\n",
      "fico_avg                                  493697 non-null float64\n",
      "desc1                                     493697 non-null float64\n",
      "int_rate_n                                493697 non-null float64\n",
      "year                                      493697 non-null float64\n",
      "installment                               493697 non-null float64\n",
      "dtypes: float64(41)\n",
      "memory usage: 158.2 MB\n"
     ]
    }
   ],
   "source": [
    "# create dataframes \n",
    "y, X = dmatrices('loan_status_bin ~ annual_inc+ chargeoff_within_12_mths+ delinq_2yrs+ dti+ \\\n",
    "                    inq_last_6mths+loan_amnt+open_acc+pub_rec+pub_rec_bankruptcies+revol_util_n+revol_bal+total_acc+\\\n",
    "                    emp_length_n+home_ownership_n+purpose_g+term+verification_status+earliest_cr_line_n+\\\n",
    "                    fico_avg+desc1+int_rate_n+application_type+grade+region+year+installment',\n",
    "                  lc_under, return_type=\"dataframe\")\n",
    "print(X.columns)\n",
    "\n",
    "y = np.ravel(y)\n",
    "X.info()"
   ]
  },
  {
   "cell_type": "code",
   "execution_count": 7,
   "metadata": {},
   "outputs": [],
   "source": [
    "# Splitting into train and test sets\n",
    "\n",
    "X_train, X_test, y_train, y_test = train_test_split(X, y, test_size=0.5, random_state=0)"
   ]
  },
  {
   "cell_type": "code",
   "execution_count": 8,
   "metadata": {},
   "outputs": [],
   "source": [
    "# standardize numeric value\n",
    "\n",
    "mapper = DataFrameMapper([\n",
    "        (['loan_amnt'], [Imputer(), StandardScaler()]),\n",
    "        (['int_rate_n'], [Imputer(), StandardScaler()]),\n",
    "        (['annual_inc'], [Imputer(), StandardScaler()]),\n",
    "        (['dti'], [Imputer(), StandardScaler()]),\n",
    "        (['delinq_2yrs'], [StandardScaler()]),\n",
    "        (['inq_last_6mths'], [Imputer(), StandardScaler()]),\n",
    "        (['chargeoff_within_12_mths'], [Imputer(), StandardScaler()]),\n",
    "        (['open_acc'], [Imputer(), StandardScaler()]),\n",
    "        (['pub_rec'], [Imputer(), StandardScaler()]),\n",
    "        (['pub_rec_bankruptcies'], [Imputer(), StandardScaler()]),\n",
    "        (['revol_bal'], [Imputer(), StandardScaler()]),\n",
    "        (['revol_util_n'], [Imputer(), StandardScaler()]),\n",
    "        (['total_acc'], [Imputer(), StandardScaler()]),\n",
    "        (['year'], [Imputer(), StandardScaler()]),\n",
    "        (['earliest_cr_line_n'], [Imputer(), StandardScaler()]),\n",
    "        (['fico_avg'], [Imputer(), StandardScaler()]),\n",
    "        (['desc1'], [StandardScaler()]),\n",
    "        (['installment'], [Imputer(), StandardScaler()]),\n",
    "    ])\n",
    "\n",
    "X_train = mapper.fit_transform(X_train)\n",
    "X_test = mapper.transform(X_test)"
   ]
  },
  {
   "cell_type": "markdown",
   "metadata": {},
   "source": [
    "# Logistic regression\n"
   ]
  },
  {
   "cell_type": "code",
   "execution_count": 19,
   "metadata": {},
   "outputs": [
    {
     "name": "stdout",
     "output_type": "stream",
     "text": [
      "Optimization terminated successfully.\n",
      "         Current function value: 0.615783\n",
      "         Iterations 7\n",
      "                                       Results: Logit\n",
      "=============================================================================================\n",
      "Model:                       Logit                     No. Iterations:            7.0000     \n",
      "Dependent Variable:          y                         Pseudo R-squared:          0.112      \n",
      "Date:                        2018-08-01 14:11          AIC:                       608102.9031\n",
      "No. Observations:            493697                    BIC:                       608558.3999\n",
      "Df Model:                    40                        Log-Likelihood:            -3.0401e+05\n",
      "Df Residuals:                493656                    LL-Null:                   -3.4220e+05\n",
      "Converged:                   1.0000                    Scale:                     1.0000     \n",
      "---------------------------------------------------------------------------------------------\n",
      "                                         Coef.   Std.Err.    z     P>|z|    [0.025    0.975] \n",
      "---------------------------------------------------------------------------------------------\n",
      "Intercept                              -376.5965   4.8258 -78.0386 0.0000 -386.0548 -367.1381\n",
      "emp_length_n[T.10+ years]                -0.0404   0.0074  -5.4262 0.0000   -0.0550   -0.0258\n",
      "emp_length_n[T.5-10 years]                0.1095   0.0080  13.7220 0.0000    0.0939    0.1251\n",
      "home_ownership_n[T.OTHER]                 0.5726   0.1628   3.5173 0.0004    0.2535    0.8916\n",
      "home_ownership_n[T.OWN]                   0.2024   0.0105  19.2119 0.0000    0.1818    0.2231\n",
      "home_ownership_n[T.RENT]                  0.3401   0.0072  47.4923 0.0000    0.3260    0.3541\n",
      "purpose_g[T.life_event]                   0.3266   0.0173  18.8508 0.0000    0.2926    0.3606\n",
      "purpose_g[T.major_purchase]               0.0778   0.0106   7.3639 0.0000    0.0571    0.0985\n",
      "purpose_g[T.other]                        0.0874   0.0136   6.4215 0.0000    0.0607    0.1141\n",
      "term[T. 60 months]                        0.7761   0.0179  43.3204 0.0000    0.7410    0.8112\n",
      "verification_status[T.Source Verified]    0.1541   0.0080  19.3327 0.0000    0.1384    0.1697\n",
      "verification_status[T.Verified]           0.1740   0.0085  20.5804 0.0000    0.1574    0.1906\n",
      "application_type[T.Joint App]             0.0775   0.0286   2.7136 0.0067    0.0215    0.1335\n",
      "grade[T.B]                                0.4703   0.0143  32.9230 0.0000    0.4423    0.4983\n",
      "grade[T.C]                                0.7784   0.0190  40.9006 0.0000    0.7411    0.8157\n",
      "grade[T.D]                                0.9631   0.0259  37.2489 0.0000    0.9125    1.0138\n",
      "grade[T.E]                                1.0573   0.0329  32.1067 0.0000    0.9927    1.1218\n",
      "grade[T.F]                                1.0848   0.0427  25.4304 0.0000    1.0012    1.1684\n",
      "grade[T.G]                                1.0925   0.0557  19.6286 0.0000    0.9834    1.2016\n",
      "region[T.NorthEast]                       0.0697   0.0100   6.9892 0.0000    0.0501    0.0892\n",
      "region[T.SouthEast]                       0.0553   0.0097   5.6818 0.0000    0.0362    0.0743\n",
      "region[T.SouthWest]                       0.0369   0.0116   3.1653 0.0015    0.0140    0.0597\n",
      "region[T.West]                           -0.1111   0.0099 -11.1755 0.0000   -0.1306   -0.0916\n",
      "annual_inc                               -0.0000   0.0000 -16.8161 0.0000   -0.0000   -0.0000\n",
      "chargeoff_within_12_mths                 -0.0473   0.0275  -1.7184 0.0857   -0.1012    0.0066\n",
      "delinq_2yrs                               0.0394   0.0036  11.0170 0.0000    0.0324    0.0464\n",
      "dti                                       0.0181   0.0004  42.4345 0.0000    0.0173    0.0189\n",
      "inq_last_6mths                            0.0883   0.0033  26.7648 0.0000    0.0818    0.0947\n",
      "loan_amnt                                -0.0000   0.0000  -8.1061 0.0000   -0.0000   -0.0000\n",
      "open_acc                                  0.0230   0.0008  27.5064 0.0000    0.0214    0.0246\n",
      "pub_rec                                   0.0144   0.0064   2.2396 0.0251    0.0018    0.0271\n",
      "pub_rec_bankruptcies                     -0.0513   0.0105  -4.8803 0.0000   -0.0720   -0.0307\n",
      "revol_util_n                              0.0011   0.0002   6.5082 0.0000    0.0007    0.0014\n",
      "revol_bal                                -0.0000   0.0000 -14.3429 0.0000   -0.0000   -0.0000\n",
      "total_acc                                -0.0130   0.0004 -33.5917 0.0000   -0.0137   -0.0122\n",
      "earliest_cr_line_n                        0.0024   0.0005   5.2085 0.0000    0.0015    0.0033\n",
      "fico_avg                                 -0.0058   0.0001 -39.6844 0.0000   -0.0061   -0.0055\n",
      "desc1                                     0.0003   0.0000   7.3532 0.0000    0.0002    0.0004\n",
      "int_rate_n                                0.0103   0.0023   4.5691 0.0000    0.0059    0.0147\n",
      "year                                      0.1880   0.0024  78.5885 0.0000    0.1833    0.1927\n",
      "installment                               0.0010   0.0001  12.4469 0.0000    0.0009    0.0012\n",
      "=============================================================================================\n",
      "\n"
     ]
    }
   ],
   "source": [
    "# logisti model in statsmodels\n",
    "\n",
    "model=sm.Logit(y,X)\n",
    "result=model.fit()\n",
    "print(result.summary2())"
   ]
  },
  {
   "cell_type": "code",
   "execution_count": null,
   "metadata": {},
   "outputs": [],
   "source": [
    "# # logistic regression model in scikit learn\n",
    "# model = LogisticRegression()\n",
    "# model = model.fit(X, y)\n",
    "\n",
    "# # check the accuracy \n",
    "# model.score(X, y)"
   ]
  },
  {
   "cell_type": "code",
   "execution_count": null,
   "metadata": {},
   "outputs": [],
   "source": [
    "# # evaluate the model using 10-fold cross-validation\n",
    "# scores = cross_val_score(LogisticRegression(), X, y, scoring='accuracy', cv=10)\n",
    "# print(scores)\n",
    "# print(scores.mean())\n"
   ]
  },
  {
   "cell_type": "code",
   "execution_count": 20,
   "metadata": {},
   "outputs": [
    {
     "data": {
      "text/plain": [
       "LogisticRegression(C=1.0, class_weight=None, dual=False, fit_intercept=True,\n",
       "          intercept_scaling=1, max_iter=100, multi_class='ovr', n_jobs=1,\n",
       "          penalty='l2', random_state=None, solver='liblinear', tol=0.0001,\n",
       "          verbose=0, warm_start=False)"
      ]
     },
     "execution_count": 20,
     "metadata": {},
     "output_type": "execute_result"
    }
   ],
   "source": [
    "# Logistic regression\n",
    "model2 = LogisticRegression()\n",
    "model2.fit(X_train, y_train)"
   ]
  },
  {
   "cell_type": "code",
   "execution_count": 21,
   "metadata": {
    "scrolled": true
   },
   "outputs": [
    {
     "name": "stdout",
     "output_type": "stream",
     "text": [
      "AUC estimate: 0.713\n",
      "Mean accuracy score: 0.657\n",
      "[[81472 42121]\n",
      " [42556 80700]]\n",
      "             precision    recall  f1-score   support\n",
      "\n",
      "        0.0       0.66      0.66      0.66    123593\n",
      "        1.0       0.66      0.65      0.66    123256\n",
      "\n",
      "avg / total       0.66      0.66      0.66    246849\n",
      "\n"
     ]
    }
   ],
   "source": [
    "# generate evaluation metrics\n",
    "\n",
    "probs = model2.predict_proba(X_test)\n",
    "predicted = model2.predict(X_test)\n",
    "accuracy = accuracy_score(y_test, predicted)\n",
    "auc = metrics.roc_auc_score(y_test, probs[:, 1])\n",
    "\n",
    "print(f'AUC estimate: {auc:.3}')\n",
    "print(f'Mean accuracy score: {accuracy:.3}')\n",
    "print(metrics.confusion_matrix(y_test, predicted))\n",
    "print(metrics.classification_report(y_test, predicted))"
   ]
  },
  {
   "cell_type": "code",
   "execution_count": 22,
   "metadata": {},
   "outputs": [
    {
     "data": {
      "image/png": "[encoded data removed]",
      "text/plain": [
       "<matplotlib.figure.Figure at 0x1cf9653bfd0>"
      ]
     },
     "metadata": {},
     "output_type": "display_data"
    }
   ],
   "source": [
    "# ROC curve\n",
    "\n",
    "fpr, tpr, thresholds = roc_curve(y_test, model2.predict_proba(X_test)[:,1])\n",
    "plt.figure(figsize=(6,6))\n",
    "plt.plot(fpr, tpr, label='Logistic Regression (area = %0.2f)' % auc)\n",
    "plt.plot([0, 1], [0, 1],'r--')\n",
    "plt.xlim([0.0, 1.0])\n",
    "plt.ylim([0.0, 1.0])\n",
    "plt.xlabel('False Positive Rate')\n",
    "plt.ylabel('True Positive Rate')\n",
    "plt.title('Receiver operating characteristic')\n",
    "plt.legend(loc=\"lower right\")\n",
    "plt.savefig('Log_ROC')\n",
    "plt.show()"
   ]
  },
  {
   "cell_type": "markdown",
   "metadata": {},
   "source": [
    "# Random forest"
   ]
  },
  {
   "cell_type": "code",
   "execution_count": 23,
   "metadata": {},
   "outputs": [
    {
     "data": {
      "text/plain": [
       "RandomForestClassifier(bootstrap=True, class_weight=None, criterion='gini',\n",
       "            max_depth=3, max_features='log2', max_leaf_nodes=None,\n",
       "            min_impurity_decrease=0.0, min_impurity_split=None,\n",
       "            min_samples_leaf=1, min_samples_split=2,\n",
       "            min_weight_fraction_leaf=0.0, n_estimators=100, n_jobs=1,\n",
       "            oob_score=True, random_state=123456, verbose=0,\n",
       "            warm_start=False)"
      ]
     },
     "execution_count": 23,
     "metadata": {},
     "output_type": "execute_result"
    }
   ],
   "source": [
    "from sklearn.ensemble import RandomForestClassifier\n",
    "\n",
    "rf = RandomForestClassifier(n_estimators=100, max_depth=3, max_features='log2', oob_score=True,  random_state=123456)\n",
    "rf.fit(X_train, y_train)"
   ]
  },
  {
   "cell_type": "code",
   "execution_count": 24,
   "metadata": {},
   "outputs": [
    {
     "name": "stdout",
     "output_type": "stream",
     "text": [
      "AUC estimate: 0.701\n",
      "Out-of-bag score estimate: 0.644\n",
      "Mean accuracy score: 0.646\n",
      "[[75446 48147]\n",
      " [39224 84032]]\n",
      "             precision    recall  f1-score   support\n",
      "\n",
      "        0.0       0.66      0.61      0.63    123593\n",
      "        1.0       0.64      0.68      0.66    123256\n",
      "\n",
      "avg / total       0.65      0.65      0.65    246849\n",
      "\n"
     ]
    }
   ],
   "source": [
    "# generate evaluation metrics\n",
    "\n",
    "probs = rf.predict_proba(X_test)\n",
    "predicted = rf.predict(X_test)\n",
    "accuracy = accuracy_score(y_test, predicted)\n",
    "auc = metrics.roc_auc_score(y_test, probs[:, 1])\n",
    "\n",
    "print(f'AUC estimate: {auc:.3}')\n",
    "print(f'Out-of-bag score estimate: {rf.oob_score_:.3}')\n",
    "print(f'Mean accuracy score: {accuracy:.3}')\n",
    "print(metrics.confusion_matrix(y_test, predicted))\n",
    "print(metrics.classification_report(y_test, predicted))"
   ]
  },
  {
   "cell_type": "code",
   "execution_count": 25,
   "metadata": {},
   "outputs": [
    {
     "data": {
      "image/png": "[encoded data removed]",
      "text/plain": [
       "<matplotlib.figure.Figure at 0x1cf958078d0>"
      ]
     },
     "metadata": {},
     "output_type": "display_data"
    }
   ],
   "source": [
    "# ROC curve\n",
    "\n",
    "fpr, tpr, thresholds = roc_curve(y_test, rf.predict_proba(X_test)[:,1])\n",
    "plt.figure(figsize=(6,6))\n",
    "plt.plot(fpr, tpr, label='Random forest (area = %0.2f)' % auc)\n",
    "plt.plot([0, 1], [0, 1],'r--')\n",
    "plt.xlim([0.0, 1.0])\n",
    "plt.ylim([0.0, 1.0])\n",
    "plt.xlabel('False Positive Rate')\n",
    "plt.ylabel('True Positive Rate')\n",
    "plt.title('Receiver operating characteristic')\n",
    "plt.legend(loc=\"lower right\")\n",
    "plt.savefig('RandomForest_ROC')\n",
    "plt.show()"
   ]
  },
  {
   "cell_type": "markdown",
   "metadata": {},
   "source": [
    "# Decision tree"
   ]
  },
  {
   "cell_type": "code",
   "execution_count": 26,
   "metadata": {},
   "outputs": [
    {
     "data": {
      "text/plain": [
       "DecisionTreeClassifier(class_weight=None, criterion='gini', max_depth=None,\n",
       "            max_features=None, max_leaf_nodes=None,\n",
       "            min_impurity_decrease=0.0, min_impurity_split=None,\n",
       "            min_samples_leaf=1, min_samples_split=2,\n",
       "            min_weight_fraction_leaf=0.0, presort=False, random_state=None,\n",
       "            splitter='best')"
      ]
     },
     "execution_count": 26,
     "metadata": {},
     "output_type": "execute_result"
    }
   ],
   "source": [
    "from sklearn import tree\n",
    "\n",
    "clf = tree.DecisionTreeClassifier()\n",
    "clf.fit(X_train, y_train)"
   ]
  },
  {
   "cell_type": "code",
   "execution_count": 27,
   "metadata": {},
   "outputs": [
    {
     "name": "stdout",
     "output_type": "stream",
     "text": [
      "AUC estimate: 0.571\n",
      "Out-of-bag score estimate: 0.644\n",
      "Mean accuracy score: 0.571\n",
      "[[70593 53000]\n",
      " [52912 70344]]\n",
      "             precision    recall  f1-score   support\n",
      "\n",
      "        0.0       0.57      0.57      0.57    123593\n",
      "        1.0       0.57      0.57      0.57    123256\n",
      "\n",
      "avg / total       0.57      0.57      0.57    246849\n",
      "\n"
     ]
    }
   ],
   "source": [
    "probs = clf.predict_proba(X_test)\n",
    "predicted = clf.predict(X_test)\n",
    "accuracy = accuracy_score(y_test, predicted)\n",
    "auc = metrics.roc_auc_score(y_test, probs[:, 1])\n",
    "\n",
    "# generate evaluation metrics\n",
    "print(f'AUC estimate: {auc:.3}')\n",
    "print(f'Out-of-bag score estimate: {rf.oob_score_:.3}')\n",
    "print(f'Mean accuracy score: {accuracy:.3}')\n",
    "print(metrics.confusion_matrix(y_test, predicted))\n",
    "print(metrics.classification_report(y_test, predicted))"
   ]
  },
  {
   "cell_type": "code",
   "execution_count": 28,
   "metadata": {},
   "outputs": [
    {
     "data": {
      "image/png": "[encoded data removed]",
      "text/plain": [
       "<matplotlib.figure.Figure at 0x1cf9580e9b0>"
      ]
     },
     "metadata": {},
     "output_type": "display_data"
    }
   ],
   "source": [
    "# ROC curve\n",
    "\n",
    "fpr, tpr, thresholds = roc_curve(y_test, clf.predict_proba(X_test)[:,1])\n",
    "plt.figure(figsize=(6,6))\n",
    "plt.plot(fpr, tpr, label='Decision tree (area = %0.2f)' % auc)\n",
    "plt.plot([0, 1], [0, 1],'r--')\n",
    "plt.xlim([0.0, 1.0])\n",
    "plt.ylim([0.0, 1.0])\n",
    "plt.xlabel('False Positive Rate')\n",
    "plt.ylabel('True Positive Rate')\n",
    "plt.title('Receiver operating characteristic')\n",
    "plt.legend(loc=\"lower right\")\n",
    "plt.savefig('DecisionTree_ROC')\n",
    "plt.show()"
   ]
  },
  {
   "cell_type": "markdown",
   "metadata": {},
   "source": [
    "# Neural network"
   ]
  },
  {
   "cell_type": "code",
   "execution_count": 29,
   "metadata": {},
   "outputs": [
    {
     "data": {
      "text/plain": [
       "MLPClassifier(activation='relu', alpha=1e-05, batch_size='auto', beta_1=0.9,\n",
       "       beta_2=0.999, early_stopping=False, epsilon=1e-08,\n",
       "       hidden_layer_sizes=(5, 2), learning_rate='constant',\n",
       "       learning_rate_init=0.001, max_iter=200, momentum=0.9,\n",
       "       nesterovs_momentum=True, power_t=0.5, random_state=1, shuffle=True,\n",
       "       solver='lbfgs', tol=0.0001, validation_fraction=0.1, verbose=False,\n",
       "       warm_start=False)"
      ]
     },
     "execution_count": 29,
     "metadata": {},
     "output_type": "execute_result"
    }
   ],
   "source": [
    "from sklearn.neural_network import MLPClassifier\n",
    "\n",
    "nn = MLPClassifier(solver='lbfgs', alpha=1e-5,hidden_layer_sizes=(5, 2), random_state=1)\n",
    "\n",
    "nn.fit(X_train, y_train)"
   ]
  },
  {
   "cell_type": "code",
   "execution_count": 30,
   "metadata": {},
   "outputs": [
    {
     "name": "stdout",
     "output_type": "stream",
     "text": [
      "AUC estimate: 0.699\n",
      "Mean accuracy score: 0.649\n",
      "[[82576 41017]\n",
      " [45736 77520]]\n",
      "             precision    recall  f1-score   support\n",
      "\n",
      "        0.0       0.64      0.67      0.66    123593\n",
      "        1.0       0.65      0.63      0.64    123256\n",
      "\n",
      "avg / total       0.65      0.65      0.65    246849\n",
      "\n"
     ]
    }
   ],
   "source": [
    "probs = nn.predict_proba(X_test)\n",
    "predicted = nn.predict(X_test)\n",
    "accuracy = accuracy_score(y_test, predicted)\n",
    "auc = metrics.roc_auc_score(y_test, probs[:, 1])\n",
    "\n",
    "# generate evaluation metrics\n",
    "print(f'AUC estimate: {auc:.3}')\n",
    "print(f'Mean accuracy score: {accuracy:.3}')\n",
    "print(metrics.confusion_matrix(y_test, predicted))\n",
    "print(metrics.classification_report(y_test, predicted))"
   ]
  },
  {
   "cell_type": "code",
   "execution_count": 31,
   "metadata": {},
   "outputs": [
    {
     "data": {
      "image/png": "[encoded data removed]",
      "text/plain": [
       "<matplotlib.figure.Figure at 0x1cfa9d6ac50>"
      ]
     },
     "metadata": {},
     "output_type": "display_data"
    }
   ],
   "source": [
    "# ROC curve\n",
    "\n",
    "fpr, tpr, thresholds = roc_curve(y_test, nn.predict_proba(X_test)[:,1])\n",
    "plt.figure(figsize=(6,6))\n",
    "plt.plot(fpr, tpr, label='Neural network (area = %0.2f)' % auc)\n",
    "plt.plot([0, 1], [0, 1],'r--')\n",
    "plt.xlim([0.0, 1.0])\n",
    "plt.ylim([0.0, 1.0])\n",
    "plt.xlabel('False Positive Rate')\n",
    "plt.ylabel('True Positive Rate')\n",
    "plt.title('Receiver operating characteristic')\n",
    "plt.legend(loc=\"lower right\")\n",
    "plt.savefig('NeuralNetwork_ROC')\n",
    "plt.show()"
   ]
  },
  {
   "cell_type": "markdown",
   "metadata": {},
   "source": [
    "# Naive Bayes"
   ]
  },
  {
   "cell_type": "code",
   "execution_count": 32,
   "metadata": {},
   "outputs": [
    {
     "data": {
      "text/plain": [
       "GaussianNB(priors=None)"
      ]
     },
     "execution_count": 32,
     "metadata": {},
     "output_type": "execute_result"
    }
   ],
   "source": [
    "from sklearn.naive_bayes import GaussianNB\n",
    "\n",
    "gnb = GaussianNB()\n",
    "gnb.fit(X_train, y_train)"
   ]
  },
  {
   "cell_type": "code",
   "execution_count": 33,
   "metadata": {
    "scrolled": true
   },
   "outputs": [
    {
     "name": "stdout",
     "output_type": "stream",
     "text": [
      "AUC estimate: 0.672\n",
      "Mean accuracy score: 0.617\n",
      "[[56303 67290]\n",
      " [27144 96112]]\n",
      "             precision    recall  f1-score   support\n",
      "\n",
      "        0.0       0.67      0.46      0.54    123593\n",
      "        1.0       0.59      0.78      0.67    123256\n",
      "\n",
      "avg / total       0.63      0.62      0.61    246849\n",
      "\n"
     ]
    }
   ],
   "source": [
    "probs = gnb.predict_proba(X_test)\n",
    "predicted = gnb.predict(X_test)\n",
    "accuracy = accuracy_score(y_test, predicted)\n",
    "auc = metrics.roc_auc_score(y_test, probs[:, 1])\n",
    "\n",
    "# generate evaluation metrics\n",
    "print(f'AUC estimate: {auc:.3}')\n",
    "print(f'Mean accuracy score: {accuracy:.3}')\n",
    "print(metrics.confusion_matrix(y_test, predicted))\n",
    "print(metrics.classification_report(y_test, predicted))"
   ]
  },
  {
   "cell_type": "code",
   "execution_count": 34,
   "metadata": {},
   "outputs": [
    {
     "data": {
      "image/png": "[encoded data removed]",
      "text/plain": [
       "<matplotlib.figure.Figure at 0x1cfab81b160>"
      ]
     },
     "metadata": {},
     "output_type": "display_data"
    }
   ],
   "source": [
    "# ROC curve\n",
    "\n",
    "fpr, tpr, thresholds = roc_curve(y_test, gnb.predict_proba(X_test)[:,1])\n",
    "plt.figure(figsize=(6,6))\n",
    "plt.plot(fpr, tpr, label='Naive Bayes (area = %0.2f)' % auc)\n",
    "plt.plot([0, 1], [0, 1],'r--')\n",
    "plt.xlim([0.0, 1.0])\n",
    "plt.ylim([0.0, 1.0])\n",
    "plt.xlabel('False Positive Rate')\n",
    "plt.ylabel('True Positive Rate')\n",
    "plt.title('Receiver operating characteristic')\n",
    "plt.legend(loc=\"lower right\")\n",
    "plt.savefig('NaiveBayes_ROC')\n",
    "plt.show()"
   ]
  },
  {
   "cell_type": "markdown",
   "metadata": {},
   "source": [
    "# Linear discriminant analysis"
   ]
  },
  {
   "cell_type": "code",
   "execution_count": 35,
   "metadata": {
    "scrolled": true
   },
   "outputs": [
    {
     "data": {
      "text/plain": [
       "LinearDiscriminantAnalysis(n_components=None, priors=None, shrinkage=None,\n",
       "              solver='svd', store_covariance=False, tol=0.0001)"
      ]
     },
     "execution_count": 35,
     "metadata": {},
     "output_type": "execute_result"
    }
   ],
   "source": [
    "from sklearn.discriminant_analysis import LinearDiscriminantAnalysis\n",
    "\n",
    "lda = LinearDiscriminantAnalysis()\n",
    "lda.fit(X_train, y_train)"
   ]
  },
  {
   "cell_type": "code",
   "execution_count": 36,
   "metadata": {},
   "outputs": [
    {
     "name": "stdout",
     "output_type": "stream",
     "text": [
      "AUC estimate: 0.712\n",
      "Mean accuracy score: 0.656\n",
      "[[81836 41757]\n",
      " [43099 80157]]\n",
      "             precision    recall  f1-score   support\n",
      "\n",
      "        0.0       0.66      0.66      0.66    123593\n",
      "        1.0       0.66      0.65      0.65    123256\n",
      "\n",
      "avg / total       0.66      0.66      0.66    246849\n",
      "\n"
     ]
    }
   ],
   "source": [
    "probs = lda.predict_proba(X_test)\n",
    "predicted = lda.predict(X_test)\n",
    "accuracy = accuracy_score(y_test, predicted)\n",
    "auc = metrics.roc_auc_score(y_test, probs[:, 1])\n",
    "\n",
    "# generate evaluation metrics\n",
    "print(f'AUC estimate: {auc:.3}')\n",
    "print(f'Mean accuracy score: {accuracy:.3}')\n",
    "print(metrics.confusion_matrix(y_test, predicted))\n",
    "print(metrics.classification_report(y_test, predicted))"
   ]
  },
  {
   "cell_type": "code",
   "execution_count": 37,
   "metadata": {},
   "outputs": [
    {
     "data": {
      "image/png": "[encoded data removed]",
      "text/plain": [
       "<matplotlib.figure.Figure at 0x1cfaf69ec88>"
      ]
     },
     "metadata": {},
     "output_type": "display_data"
    }
   ],
   "source": [
    "# ROC curve\n",
    "\n",
    "fpr, tpr, thresholds = roc_curve(y_test, lda.predict_proba(X_test)[:,1])\n",
    "plt.figure(figsize=(6,6))\n",
    "plt.plot(fpr, tpr, label='Linear Discriminant Analysis (area = %0.2f)' % auc)\n",
    "plt.plot([0, 1], [0, 1],'r--')\n",
    "plt.xlim([0.0, 1.0])\n",
    "plt.ylim([0.0, 1.0])\n",
    "plt.xlabel('False Positive Rate')\n",
    "plt.ylabel('True Positive Rate')\n",
    "plt.title('Receiver operating characteristic')\n",
    "plt.legend(loc=\"lower right\")\n",
    "plt.savefig('LDA_ROC')\n",
    "plt.show()"
   ]
  },
  {
   "cell_type": "markdown",
   "metadata": {},
   "source": [
    "# Gradient boosting - WINNER!"
   ]
  },
  {
   "cell_type": "code",
   "execution_count": 16,
   "metadata": {},
   "outputs": [
    {
     "data": {
      "text/plain": [
       "GradientBoostingClassifier(criterion='friedman_mse', init=None,\n",
       "              learning_rate=0.1, loss='deviance', max_depth=3,\n",
       "              max_features=None, max_leaf_nodes=None,\n",
       "              min_impurity_decrease=0.0, min_impurity_split=None,\n",
       "              min_samples_leaf=1, min_samples_split=2,\n",
       "              min_weight_fraction_leaf=0.0, n_estimators=200,\n",
       "              presort='auto', random_state=None, subsample=1.0, verbose=0,\n",
       "              warm_start=False)"
      ]
     },
     "execution_count": 16,
     "metadata": {},
     "output_type": "execute_result"
    }
   ],
   "source": [
    "from sklearn.ensemble import GradientBoostingClassifier\n",
    "\n",
    "gradboost = GradientBoostingClassifier(n_estimators=200,max_depth=3)\n",
    "gradboost.fit(X_train, y_train)"
   ]
  },
  {
   "cell_type": "code",
   "execution_count": 17,
   "metadata": {},
   "outputs": [
    {
     "name": "stdout",
     "output_type": "stream",
     "text": [
      "AUC estimate: 0.726\n",
      "Mean accuracy score: 0.665\n",
      "[[79294 44299]\n",
      " [38278 84978]]\n",
      "             precision    recall  f1-score   support\n",
      "\n",
      "        0.0       0.67      0.64      0.66    123593\n",
      "        1.0       0.66      0.69      0.67    123256\n",
      "\n",
      "avg / total       0.67      0.67      0.67    246849\n",
      "\n"
     ]
    }
   ],
   "source": [
    "probs = gradboost.predict_proba(X_test)\n",
    "predicted = gradboost.predict(X_test)\n",
    "accuracy = accuracy_score(y_test, predicted)\n",
    "auc = metrics.roc_auc_score(y_test, probs[:, 1])\n",
    "\n",
    "# generate evaluation metrics\n",
    "print(f'AUC estimate: {auc:.3}')\n",
    "print(f'Mean accuracy score: {accuracy:.3}')\n",
    "print(metrics.confusion_matrix(y_test, predicted))\n",
    "print(metrics.classification_report(y_test, predicted))"
   ]
  },
  {
   "cell_type": "code",
   "execution_count": 18,
   "metadata": {},
   "outputs": [
    {
     "data": {
      "image/png": "[encoded data removed]",
      "text/plain": [
       "<matplotlib.figure.Figure at 0x1cf955224e0>"
      ]
     },
     "metadata": {},
     "output_type": "display_data"
    }
   ],
   "source": [
    "# ROC curve\n",
    "\n",
    "fpr, tpr, thresholds = roc_curve(y_test, gradboost.predict_proba(X_test)[:,1])\n",
    "plt.figure(figsize=(6,6))\n",
    "plt.plot(fpr, tpr, label='Gradient boosting (area = %0.2f)' % auc)\n",
    "plt.plot([0, 1], [0, 1],'r--')\n",
    "plt.xlim([0.0, 1.0])\n",
    "plt.ylim([0.0, 1.0])\n",
    "plt.xlabel('False Positive Rate')\n",
    "plt.ylabel('True Positive Rate')\n",
    "plt.title('Receiver operating characteristic')\n",
    "plt.legend(loc=\"lower right\")\n",
    "plt.savefig('GradientBoost_ROC')\n",
    "plt.show()"
   ]
  },
  {
   "cell_type": "code",
   "execution_count": null,
   "metadata": {},
   "outputs": [],
   "source": []
  },
  {
   "cell_type": "markdown",
   "metadata": {},
   "source": [
    "# KNN - super slow, do not run on laptop"
   ]
  },
  {
   "cell_type": "code",
   "execution_count": null,
   "metadata": {},
   "outputs": [],
   "source": [
    "from sklearn.neighbors import KNeighborsClassifier\n",
    "\n",
    "neigh = KNeighborsClassifier(n_neighbors=3)\n",
    "neigh.fit(X_train, y_train)"
   ]
  },
  {
   "cell_type": "code",
   "execution_count": null,
   "metadata": {},
   "outputs": [],
   "source": [
    "probs = neigh.predict_proba(X_test)\n",
    "predicted = neigh.predict(X_test)\n",
    "accuracy = accuracy_score(y_test, predicted)\n",
    "auc = metrics.roc_auc_score(y_test, probs[:, 1])\n",
    "\n",
    "# generate evaluation metrics\n",
    "print(f'AUC estimate: {auc:.3}')\n",
    "print(f'Mean accuracy score: {accuracy:.3}')\n",
    "print(metrics.confusion_matrix(y_test, predicted))\n",
    "print(metrics.classification_report(y_test, predicted))"
   ]
  },
  {
   "cell_type": "code",
   "execution_count": null,
   "metadata": {},
   "outputs": [],
   "source": [
    "# ROC curve\n",
    "\n",
    "fpr, tpr, thresholds = roc_curve(y_test, neigh.predict_proba(X_test)[:,1])\n",
    "plt.figure(figsize=(6,6))\n",
    "plt.plot(fpr, tpr, label='KNN (area = %0.2f)' % auc)\n",
    "plt.plot([0, 1], [0, 1],'r--')\n",
    "plt.xlim([0.0, 1.0])\n",
    "plt.ylim([0.0, 1.0])\n",
    "plt.xlabel('False Positive Rate')\n",
    "plt.ylabel('True Positive Rate')\n",
    "plt.title('Receiver operating characteristic')\n",
    "plt.legend(loc=\"lower right\")\n",
    "plt.savefig('KNN_ROC')\n",
    "plt.show()"
   ]
  },
  {
   "cell_type": "markdown",
   "metadata": {},
   "source": [
    "# Support vector machine - super slow, do not run on laptop"
   ]
  },
  {
   "cell_type": "code",
   "execution_count": null,
   "metadata": {},
   "outputs": [],
   "source": [
    "from sklearn.svm import SVC\n",
    "\n",
    "svm = SVC(kernel='linear', C=1E10)\n",
    "svm.fit(X, y)"
   ]
  },
  {
   "cell_type": "code",
   "execution_count": null,
   "metadata": {},
   "outputs": [],
   "source": [
    "probs = svm.predict_proba(X_test)\n",
    "predicted = svm.predict(X_test)\n",
    "accuracy = accuracy_score(y_test, predicted)\n",
    "auc = metrics.roc_auc_score(y_test, probs[:, 1])\n",
    "\n",
    "# generate evaluation metrics\n",
    "print(f'AUC estimate: {auc:.3}')\n",
    "print(f'Mean accuracy score: {accuracy:.3}')\n",
    "print(metrics.confusion_matrix(y_test, predicted))\n",
    "print(metrics.classification_report(y_test, predicted))"
   ]
  }
 ],
 "metadata": {
  "kernelspec": {
   "display_name": "Python 3",
   "language": "python",
   "name": "python3"
  },
  "language_info": {
   "codemirror_mode": {
    "name": "ipython",
    "version": 3
   },
   "file_extension": ".py",
   "mimetype": "text/x-python",
   "name": "python",
   "nbconvert_exporter": "python",
   "pygments_lexer": "ipython3",
   "version": "3.6.4"
  }
 },
 "nbformat": 4,
 "nbformat_minor": 2
}
