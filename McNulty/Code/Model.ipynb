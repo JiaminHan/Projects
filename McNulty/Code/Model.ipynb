{
 "cells": [
  {
   "cell_type": "code",
   "execution_count": 2,
   "metadata": {},
   "outputs": [
    {
     "name": "stderr",
     "output_type": "stream",
     "text": [
      "/home/ubuntu/anaconda3/lib/python3.6/site-packages/sklearn/cross_validation.py:41: DeprecationWarning: This module was deprecated in version 0.18 in favor of the model_selection module into which all the refactored classes and functions are moved. Also note that the interface of the new CV iterators are different from that of this module. This module will be removed in 0.20.\n",
      "  \"This module will be removed in 0.20.\", DeprecationWarning)\n"
     ]
    }
   ],
   "source": [
    "import _pickle as pickle\n",
    "import logging\n",
    "import os\n",
    "\n",
    "\n",
    "#import sklearn\n",
    "from sklearn.preprocessing import Imputer, StandardScaler, LabelEncoder, OneHotEncoder\n",
    "from sklearn.svm import SVC\n",
    "from sklearn_pandas import DataFrameMapper, CategoricalImputer\n",
    "from sklearn.svm import LinearSVR\n",
    "from sklearn.cross_validation import train_test_split\n",
    "\n",
    "import matplotlib.pyplot as plt\n",
    "%matplotlib inline\n",
    "import matplotlib.cm as cm\n",
    "import numpy as np\n",
    "import pandas as pd\n",
    "import random\n",
    "import csv\n",
    "from sklearn.tree import DecisionTreeClassifier\n",
    "from sklearn.svm import LinearSVC\n",
    "from sklearn.svm import SVC\n",
    "from sklearn.ensemble import RandomForestClassifier\n",
    "from sklearn.linear_model import LogisticRegression\n",
    "from sklearn.ensemble import GradientBoostingClassifier\n",
    "from sklearn.metrics import accuracy_score\n",
    "from sklearn.metrics import f1_score\n",
    "from sklearn.metrics import roc_auc_score\n",
    "from sklearn.metrics import roc_curve\n",
    "from sklearn.metrics import classification_report\n",
    "from sklearn import metrics\n",
    "from sklearn.neighbors import KNeighborsClassifier\n",
    "from sklearn.tree import DecisionTreeClassifier\n",
    "from sklearn import naive_bayes\n",
    "from sklearn.metrics import auc"
   ]
  },
  {
   "cell_type": "code",
   "execution_count": 2,
   "metadata": {},
   "outputs": [
    {
     "name": "stdout",
     "output_type": "stream",
     "text": [
      "Collecting sklearn_pandas\n",
      "  Downloading https://files.pythonhosted.org/packages/c5/9e/42d7bcddb09a3ff52d0c60c810ba5d0fded28abbe320c85bbf7368192956/sklearn_pandas-1.6.0-py2.py3-none-any.whl\n",
      "Requirement already satisfied: scipy>=0.14 in ./anaconda3/lib/python3.6/site-packages (from sklearn_pandas)\n",
      "Requirement already satisfied: scikit-learn>=0.15.0 in ./anaconda3/lib/python3.6/site-packages (from sklearn_pandas)\n",
      "Requirement already satisfied: pandas>=0.11.0 in ./anaconda3/lib/python3.6/site-packages (from sklearn_pandas)\n",
      "Requirement already satisfied: numpy>=1.6.1 in ./anaconda3/lib/python3.6/site-packages (from sklearn_pandas)\n",
      "Requirement already satisfied: python-dateutil>=2 in ./anaconda3/lib/python3.6/site-packages (from pandas>=0.11.0->sklearn_pandas)\n",
      "Requirement already satisfied: pytz>=2011k in ./anaconda3/lib/python3.6/site-packages (from pandas>=0.11.0->sklearn_pandas)\n",
      "Requirement already satisfied: six>=1.5 in ./anaconda3/lib/python3.6/site-packages (from python-dateutil>=2->pandas>=0.11.0->sklearn_pandas)\n",
      "Installing collected packages: sklearn-pandas\n",
      "Successfully installed sklearn-pandas-1.6.0\n",
      "\u001b[33mYou are using pip version 9.0.1, however version 18.0 is available.\n",
      "You should consider upgrading via the 'pip install --upgrade pip' command.\u001b[0m\n"
     ]
    }
   ],
   "source": [
    "! pip install sklearn_pandas"
   ]
  },
  {
   "cell_type": "code",
   "execution_count": 4,
   "metadata": {},
   "outputs": [],
   "source": [
    "#read cleaned data\n",
    "observations = pd.read_csv('complete_lc_all.gz', compression='gzip',low_memory=False)"
   ]
  },
  {
   "cell_type": "code",
   "execution_count": 5,
   "metadata": {},
   "outputs": [],
   "source": [
    "observations=observations[['loan_status_bin', 'annual_inc', 'chargeoff_within_12_mths', 'delinq_2yrs', 'dti',\n",
    "                    'inq_last_6mths','loan_amnt','open_acc','pub_rec','pub_rec_bankruptcies','revol_util_n','revol_bal',\n",
    "                    'total_acc','emp_length_n','home_ownership_n','purpose_g','term','verification_status','earliest_cr_line_n',\n",
    "                    'fico_avg','desc1','int_rate_n','application_type','grade','region','year','employ','installment']]"
   ]
  },
  {
   "cell_type": "code",
   "execution_count": 6,
   "metadata": {},
   "outputs": [],
   "source": [
    "observations = pd.get_dummies(observations, columns=['emp_length_n', 'grade', 'home_ownership_n','verification_status',\n",
    "                                                         'term','purpose_g','region','application_type','employ'])"
   ]
  },
  {
   "cell_type": "code",
   "execution_count": 7,
   "metadata": {},
   "outputs": [],
   "source": [
    "observations.columns = list(map(lambda x: x.lower().replace(' ', '_').replace('/', '_').replace('__','_'), observations.columns))\n",
    "\n",
    "\n"
   ]
  },
  {
   "cell_type": "code",
   "execution_count": 8,
   "metadata": {},
   "outputs": [],
   "source": [
    "mapper = DataFrameMapper([\n",
    "        (['loan_amnt'], [Imputer(), StandardScaler()]),\n",
    "        (['int_rate_n'], [Imputer(), StandardScaler()]),\n",
    "        (['annual_inc'], [Imputer(), StandardScaler()]),\n",
    "        (['dti'], [Imputer(), StandardScaler()]),\n",
    "        (['delinq_2yrs'], [StandardScaler()]),\n",
    "        (['inq_last_6mths'], [Imputer(), StandardScaler()]),\n",
    "        (['chargeoff_within_12_mths'], [Imputer(), StandardScaler()]),\n",
    "        (['open_acc'], [Imputer(), StandardScaler()]),\n",
    "        (['pub_rec'], [Imputer(), StandardScaler()]),\n",
    "        (['pub_rec_bankruptcies'], [Imputer(), StandardScaler()]),\n",
    "        (['revol_bal'], [Imputer(), StandardScaler()]),\n",
    "        (['revol_util_n'], [Imputer(), StandardScaler()]),\n",
    "        (['total_acc'], [Imputer(), StandardScaler()]),\n",
    "        (['year'], None),\n",
    "        (['earliest_cr_line_n'], [Imputer(), StandardScaler()]),\n",
    "        (['installment'], [Imputer(), StandardScaler()]),\n",
    "        (['fico_avg'], [Imputer(), StandardScaler()]),\n",
    "        (['desc1'], [StandardScaler()]),\n",
    "        (['term_36_months'], None),\n",
    "        (['term_60_months'], None),\n",
    "        (['grade_a'], None),\n",
    "        (['grade_b'], None),\n",
    "        (['grade_c'], None),\n",
    "        (['grade_d'], None),\n",
    "        (['grade_e'], None),\n",
    "        (['grade_f'], None),\n",
    "        (['grade_g'], None),\n",
    "        (['home_ownership_n_mortgage'], None),\n",
    "        (['home_ownership_n_own'], None),\n",
    "        (['home_ownership_n_rent'], None),\n",
    "        (['verification_status_not_verified'], None),\n",
    "        (['verification_status_source_verified'], None),\n",
    "        (['verification_status_verified'], None),\n",
    "        (['application_type_individual'], None),\n",
    "        (['application_type_joint_app'], None),\n",
    "        (['purpose_g_debt'], None),\n",
    "        (['purpose_g_life_event'], None),\n",
    "        (['purpose_g_major_purchase'], None),\n",
    "        (['purpose_g_other'], None),\n",
    "        (['emp_length_n_0_year'], None),\n",
    "        (['emp_length_n_1-5_years'], None),\n",
    "        (['emp_length_n_10+_years'], None),\n",
    "        (['emp_length_n_6-9_years'], None),\n",
    "        (['region_midwest'], None),\n",
    "        (['region_northeast'], None),\n",
    "        (['region_southeast'], None),\n",
    "        (['region_southwest'], None),\n",
    "        (['region_west'], None),\n",
    "        (['employ_employed', 'employ_unemployed'], None)\n",
    "        ])"
   ]
  },
  {
   "cell_type": "code",
   "execution_count": 9,
   "metadata": {},
   "outputs": [
    {
     "name": "stderr",
     "output_type": "stream",
     "text": [
      "/home/ubuntu/anaconda3/lib/python3.6/site-packages/sklearn/utils/validation.py:475: DataConversionWarning: Data with input dtype int64 was converted to float64 by StandardScaler.\n",
      "  warnings.warn(msg, DataConversionWarning)\n"
     ]
    }
   ],
   "source": [
    "y = observations['loan_status_bin']\n",
    "X=mapper.fit_transform(observations)\n"
   ]
  },
  {
   "cell_type": "code",
   "execution_count": 10,
   "metadata": {},
   "outputs": [],
   "source": [
    "\n",
    "X_train, X_test, y_train, y_test = train_test_split(X, y, test_size=0.5, random_state=42)"
   ]
  },
  {
   "cell_type": "markdown",
   "metadata": {},
   "source": [
    "### Logistic Regression"
   ]
  },
  {
   "cell_type": "code",
   "execution_count": 11,
   "metadata": {},
   "outputs": [
    {
     "name": "stdout",
     "output_type": "stream",
     "text": [
      "0.17533287577213452\n",
      "0.1734309738404045\n",
      "0.7115352978541793\n"
     ]
    }
   ],
   "source": [
    "logreg = LogisticRegression()\n",
    "logreg.fit(X_train, y_train)\n",
    "print(f1_score(y_train,logreg.predict(X_train)))\n",
    "print(f1_score(y_test,logreg.predict(X_test)))\n",
    "print(roc_auc_score(y_test, logreg.predict_proba(X_test)[::,1]))\n",
    "fpr_lg_all, tpr_lg_all, _ = roc_curve(y_test, logreg.predict_proba(X_test)[::,1])\n",
    "auc_lg_all=round(auc(fpr_lg_all, tpr_lg_all),3)"
   ]
  },
  {
   "cell_type": "code",
   "execution_count": 12,
   "metadata": {},
   "outputs": [],
   "source": [
    "f1_lg_all=round(f1_score(y_test,logreg.predict(X_test)),3)"
   ]
  },
  {
   "cell_type": "code",
   "execution_count": 13,
   "metadata": {},
   "outputs": [
    {
     "data": {
      "text/plain": [
       "[0.96, 0.76, 0.49, 0.26, 0.1, 0.02, 0.0, 0.0, 0.0]"
      ]
     },
     "execution_count": 13,
     "metadata": {},
     "output_type": "execute_result"
    }
   ],
   "source": [
    "threshold=np.arange(0.1,1,0.1)\n",
    "recall_lg_all=[]\n",
    "for i in threshold:\n",
    "    predicted_proba_lg_all = logreg.predict_proba(X_test)\n",
    "    predicted_lg_all= (predicted_proba_lg_all[:,1] >= i).astype('int')\n",
    "    recall=float(classification_report(y_test, predicted_lg_all).split()[11])\n",
    "    recall_lg_all.append(recall)\n",
    "recall_lg_all"
   ]
  },
  {
   "cell_type": "code",
   "execution_count": 120,
   "metadata": {},
   "outputs": [
    {
     "data": {
      "text/plain": [
       "[0.38, 0.4, 0.42, 0.45, 0.47, 0.45, 0.35, 0.14, 0.01]"
      ]
     },
     "execution_count": 120,
     "metadata": {},
     "output_type": "execute_result"
    }
   ],
   "source": [
    "threshold=np.arange(0.1,1,0.1)\n",
    "f1_lg_all_list=[]\n",
    "for i in threshold:\n",
    "    predicted_proba_lg_all = logreg.predict_proba(X_test)\n",
    "    predicted_lg_all= (predicted_proba_lg_all[:,1] >= i).astype('int')\n",
    "    f1_all=round(f1_score(y_test,predicted_lg_all),2)\n",
    "    f1_lg_all_list.append(f1_all)\n",
    "f1_lg_all_list"
   ]
  },
  {
   "cell_type": "markdown",
   "metadata": {},
   "source": [
    "### Random Forest"
   ]
  },
  {
   "cell_type": "code",
   "execution_count": 14,
   "metadata": {},
   "outputs": [
    {
     "name": "stdout",
     "output_type": "stream",
     "text": [
      "0.1493188323660442\n",
      "0.13748408582505556\n",
      "0.7243462076393086\n"
     ]
    }
   ],
   "source": [
    "randomforest = RandomForestClassifier(n_estimators=80,max_depth=10,max_features= 'sqrt',random_state=42)\n",
    "randomforest.fit(X_train, y_train)\n",
    "print(f1_score(y_train,randomforest.predict(X_train)))\n",
    "print(f1_score(y_test,randomforest.predict(X_test)))\n",
    "print(roc_auc_score(y_test, randomforest.predict_proba(X_test)[::,1]))\n",
    "fpr_rf_all, tpr_rf_all, _ = roc_curve(y_test, randomforest.predict_proba(X_test)[::,1])\n",
    "auc_rf_all=round(auc(fpr_rf_all, tpr_rf_all),3)"
   ]
  },
  {
   "cell_type": "code",
   "execution_count": 15,
   "metadata": {},
   "outputs": [
    {
     "name": "stderr",
     "output_type": "stream",
     "text": [
      "/home/ubuntu/anaconda3/lib/python3.6/site-packages/sklearn/metrics/classification.py:1135: UndefinedMetricWarning: Precision and F-score are ill-defined and being set to 0.0 in labels with no predicted samples.\n",
      "  'precision', 'predicted', average, warn_for)\n"
     ]
    },
    {
     "data": {
      "text/plain": [
       "[0.96, 0.79, 0.51, 0.25, 0.08, 0.0, 0.0, 0.0, 0.0]"
      ]
     },
     "execution_count": 15,
     "metadata": {},
     "output_type": "execute_result"
    }
   ],
   "source": [
    "threshold=np.arange(0.1,1,0.1)\n",
    "recall_rf_all=[]\n",
    "for i in threshold:\n",
    "    predicted_proba_rf_all = randomforest.predict_proba(X_test)\n",
    "    predicted_rf_all= (predicted_proba_rf_all[:,1] >= i).astype('int')\n",
    "    recall=float(classification_report(y_test, predicted_rf_all).split()[11])\n",
    "    recall_rf_all.append(recall)\n",
    "recall_rf_all"
   ]
  },
  {
   "cell_type": "code",
   "execution_count": 16,
   "metadata": {},
   "outputs": [],
   "source": [
    "f1_rf_all=round(f1_score(y_test,randomforest.predict(X_test)),3)"
   ]
  },
  {
   "cell_type": "code",
   "execution_count": 121,
   "metadata": {},
   "outputs": [
    {
     "name": "stderr",
     "output_type": "stream",
     "text": [
      "/home/ubuntu/anaconda3/lib/python3.6/site-packages/sklearn/metrics/classification.py:1135: UndefinedMetricWarning: F-score is ill-defined and being set to 0.0 due to no predicted samples.\n",
      "  'precision', 'predicted', average, warn_for)\n"
     ]
    },
    {
     "data": {
      "text/plain": [
       "[0.38, 0.4, 0.42, 0.45, 0.48, 0.46, 0.32, 0.05, 0.0]"
      ]
     },
     "execution_count": 121,
     "metadata": {},
     "output_type": "execute_result"
    }
   ],
   "source": [
    "threshold=np.arange(0.1,1,0.1)\n",
    "f1_rf_all_list=[]\n",
    "for i in threshold:\n",
    "    predicted_proba_rf_all = randomforest.predict_proba(X_test)\n",
    "    predicted_rf_all= (predicted_proba_rf_all[:,1] >= i).astype('int')\n",
    "    f1_all=round(f1_score(y_test,predicted_rf_all),2)\n",
    "    f1_rf_all_list.append(f1_all)\n",
    "f1_rf_all_list"
   ]
  },
  {
   "cell_type": "markdown",
   "metadata": {},
   "source": [
    "### Gradient Boosting"
   ]
  },
  {
   "cell_type": "code",
   "execution_count": 17,
   "metadata": {},
   "outputs": [
    {
     "name": "stdout",
     "output_type": "stream",
     "text": [
      "0.27877908249763833\n",
      "0.2636070168414204\n",
      "0.7337328544415956\n",
      "             precision    recall  f1-score   support\n",
      "\n",
      "          0       0.79      0.96      0.87    406453\n",
      "          1       0.58      0.17      0.26    123537\n",
      "\n",
      "avg / total       0.74      0.78      0.73    529990\n",
      "\n"
     ]
    }
   ],
   "source": [
    "gradboost =GradientBoostingClassifier(learning_rate=0.2,n_estimators=80,max_depth=6, max_features='sqrt')\n",
    "gradboost.fit(X_train, y_train)\n",
    "print(f1_score(y_train,gradboost.predict(X_train)))\n",
    "print(f1_score(y_test,gradboost.predict(X_test)))\n",
    "print(roc_auc_score(y_test, gradboost.predict_proba(X_test)[::,1]))\n",
    "fpr_gb_all, tpr_gb_all, _ = roc_curve(y_test, gradboost.predict_proba(X_test)[::,1])\n",
    "auc_gb_all=round(auc(fpr_gb_all, tpr_gb_all),3)\n",
    "print(classification_report(y_test, gradboost.predict(X_test)))"
   ]
  },
  {
   "cell_type": "code",
   "execution_count": 18,
   "metadata": {},
   "outputs": [
    {
     "data": {
      "text/plain": [
       "0.17054000016189483"
      ]
     },
     "execution_count": 18,
     "metadata": {},
     "output_type": "execute_result"
    }
   ],
   "source": [
    "metrics.recall_score(y_test, gradboost.predict(X_test))"
   ]
  },
  {
   "cell_type": "code",
   "execution_count": 19,
   "metadata": {},
   "outputs": [
    {
     "data": {
      "text/plain": [
       "[0.94, 0.76, 0.53, 0.33, 0.17, 0.06, 0.01, 0.0, 0.0]"
      ]
     },
     "execution_count": 19,
     "metadata": {},
     "output_type": "execute_result"
    }
   ],
   "source": [
    "threshold=np.arange(0.1,1,0.1)\n",
    "recall_gb_all=[]\n",
    "for i in threshold:\n",
    "    predicted_proba_gb_all = gradboost.predict_proba(X_test)\n",
    "    predicted_gb_all= (predicted_proba_gb_all[:,1] >= i).astype('int')\n",
    "    recall=float(classification_report(y_test, predicted_gb_all).split()[11])\n",
    "    recall_gb_all.append(recall)\n",
    "recall_gb_all"
   ]
  },
  {
   "cell_type": "code",
   "execution_count": 20,
   "metadata": {},
   "outputs": [],
   "source": [
    "f1_gb_all=round(f1_score(y_test,gradboost.predict(X_test)),3)"
   ]
  },
  {
   "cell_type": "code",
   "execution_count": 122,
   "metadata": {},
   "outputs": [
    {
     "data": {
      "text/plain": [
       "[0.38, 0.4, 0.44, 0.47, 0.49, 0.48, 0.4, 0.2, 0.01]"
      ]
     },
     "execution_count": 122,
     "metadata": {},
     "output_type": "execute_result"
    }
   ],
   "source": [
    "threshold=np.arange(0.1,1,0.1)\n",
    "f1_gb_all_list=[]\n",
    "for i in threshold:\n",
    "    predicted_proba_gb_all = gradboost.predict_proba(X_test)\n",
    "    predicted_gb_all= (predicted_proba_gb_all[:,1] >= i).astype('int')\n",
    "    f1_all=round(f1_score(y_test,predicted_gb_all),2)\n",
    "    f1_gb_all_list.append(f1_all)\n",
    "f1_gb_all_list"
   ]
  },
  {
   "cell_type": "code",
   "execution_count": 145,
   "metadata": {},
   "outputs": [
    {
     "name": "stdout",
     "output_type": "stream",
     "text": [
      "[[255522 150931]\n",
      " [ 34825  88712]]\n"
     ]
    },
    {
     "data": {
      "text/plain": [
       "<matplotlib.axes._subplots.AxesSubplot at 0x7f9eb9dbd908>"
      ]
     },
     "execution_count": 145,
     "metadata": {},
     "output_type": "execute_result"
    },
    {
     "data": {
      "image/png": "[encoded data removed]",
      "text/plain": [
       "<Figure size 432x288 with 2 Axes>"
      ]
     },
     "metadata": {},
     "output_type": "display_data"
    }
   ],
   "source": [
    "import seaborn as sn\n",
    "cm=metrics.confusion_matrix(y_test,gradboost.predict(X_test))\n",
    "print(cm)\n",
    "sn.heatmap(cm)"
   ]
  },
  {
   "cell_type": "code",
   "execution_count": 21,
   "metadata": {},
   "outputs": [],
   "source": [
    "importance=gradboost.feature_importances_"
   ]
  },
  {
   "cell_type": "code",
   "execution_count": 22,
   "metadata": {},
   "outputs": [],
   "source": [
    "zipped=dict(zip(observations.columns[1:].tolist(),importance))"
   ]
  },
  {
   "cell_type": "code",
   "execution_count": 23,
   "metadata": {},
   "outputs": [
    {
     "data": {
      "text/html": [
       "<div>\n",
       "<style scoped>\n",
       "    .dataframe tbody tr th:only-of-type {\n",
       "        vertical-align: middle;\n",
       "    }\n",
       "\n",
       "    .dataframe tbody tr th {\n",
       "        vertical-align: top;\n",
       "    }\n",
       "\n",
       "    .dataframe thead th {\n",
       "        text-align: right;\n",
       "    }\n",
       "</style>\n",
       "<table border=\"1\" class=\"dataframe\">\n",
       "  <thead>\n",
       "    <tr style=\"text-align: right;\">\n",
       "      <th></th>\n",
       "      <th>0</th>\n",
       "    </tr>\n",
       "  </thead>\n",
       "  <tbody>\n",
       "    <tr>\n",
       "      <th>fico_avg</th>\n",
       "      <td>0.091251</td>\n",
       "    </tr>\n",
       "    <tr>\n",
       "      <th>chargeoff_within_12_mths</th>\n",
       "      <td>0.080629</td>\n",
       "    </tr>\n",
       "    <tr>\n",
       "      <th>revol_bal</th>\n",
       "      <td>0.071078</td>\n",
       "    </tr>\n",
       "    <tr>\n",
       "      <th>dti</th>\n",
       "      <td>0.067846</td>\n",
       "    </tr>\n",
       "    <tr>\n",
       "      <th>delinq_2yrs</th>\n",
       "      <td>0.066599</td>\n",
       "    </tr>\n",
       "    <tr>\n",
       "      <th>earliest_cr_line_n</th>\n",
       "      <td>0.052502</td>\n",
       "    </tr>\n",
       "    <tr>\n",
       "      <th>annual_inc</th>\n",
       "      <td>0.052238</td>\n",
       "    </tr>\n",
       "    <tr>\n",
       "      <th>int_rate_n</th>\n",
       "      <td>0.052201</td>\n",
       "    </tr>\n",
       "    <tr>\n",
       "      <th>total_acc</th>\n",
       "      <td>0.051533</td>\n",
       "    </tr>\n",
       "    <tr>\n",
       "      <th>desc1</th>\n",
       "      <td>0.050684</td>\n",
       "    </tr>\n",
       "    <tr>\n",
       "      <th>year</th>\n",
       "      <td>0.048840</td>\n",
       "    </tr>\n",
       "    <tr>\n",
       "      <th>pub_rec</th>\n",
       "      <td>0.041581</td>\n",
       "    </tr>\n",
       "    <tr>\n",
       "      <th>loan_amnt</th>\n",
       "      <td>0.025422</td>\n",
       "    </tr>\n",
       "    <tr>\n",
       "      <th>inq_last_6mths</th>\n",
       "      <td>0.021165</td>\n",
       "    </tr>\n",
       "    <tr>\n",
       "      <th>emp_length_n_0_year</th>\n",
       "      <td>0.018093</td>\n",
       "    </tr>\n",
       "    <tr>\n",
       "      <th>emp_length_n_1-5_years</th>\n",
       "      <td>0.016401</td>\n",
       "    </tr>\n",
       "    <tr>\n",
       "      <th>emp_length_n_10+_years</th>\n",
       "      <td>0.015369</td>\n",
       "    </tr>\n",
       "    <tr>\n",
       "      <th>installment</th>\n",
       "      <td>0.013225</td>\n",
       "    </tr>\n",
       "    <tr>\n",
       "      <th>grade_f</th>\n",
       "      <td>0.012482</td>\n",
       "    </tr>\n",
       "    <tr>\n",
       "      <th>application_type_individual</th>\n",
       "      <td>0.012354</td>\n",
       "    </tr>\n",
       "    <tr>\n",
       "      <th>pub_rec_bankruptcies</th>\n",
       "      <td>0.011865</td>\n",
       "    </tr>\n",
       "    <tr>\n",
       "      <th>home_ownership_n_mortgage</th>\n",
       "      <td>0.009322</td>\n",
       "    </tr>\n",
       "    <tr>\n",
       "      <th>revol_util_n</th>\n",
       "      <td>0.008736</td>\n",
       "    </tr>\n",
       "    <tr>\n",
       "      <th>purpose_g_major_purchase</th>\n",
       "      <td>0.008259</td>\n",
       "    </tr>\n",
       "    <tr>\n",
       "      <th>term_36_months</th>\n",
       "      <td>0.007373</td>\n",
       "    </tr>\n",
       "    <tr>\n",
       "      <th>verification_status_verified</th>\n",
       "      <td>0.006718</td>\n",
       "    </tr>\n",
       "    <tr>\n",
       "      <th>emp_length_n_6-9_years</th>\n",
       "      <td>0.006379</td>\n",
       "    </tr>\n",
       "    <tr>\n",
       "      <th>region_southeast</th>\n",
       "      <td>0.005393</td>\n",
       "    </tr>\n",
       "    <tr>\n",
       "      <th>verification_status_not_verified</th>\n",
       "      <td>0.005317</td>\n",
       "    </tr>\n",
       "    <tr>\n",
       "      <th>purpose_g_other</th>\n",
       "      <td>0.005199</td>\n",
       "    </tr>\n",
       "    <tr>\n",
       "      <th>home_ownership_n_other</th>\n",
       "      <td>0.004749</td>\n",
       "    </tr>\n",
       "    <tr>\n",
       "      <th>verification_status_source_verified</th>\n",
       "      <td>0.004713</td>\n",
       "    </tr>\n",
       "    <tr>\n",
       "      <th>purpose_g_life_event</th>\n",
       "      <td>0.004700</td>\n",
       "    </tr>\n",
       "    <tr>\n",
       "      <th>application_type_joint_app</th>\n",
       "      <td>0.004517</td>\n",
       "    </tr>\n",
       "    <tr>\n",
       "      <th>employ_employed</th>\n",
       "      <td>0.004399</td>\n",
       "    </tr>\n",
       "    <tr>\n",
       "      <th>home_ownership_n_rent</th>\n",
       "      <td>0.003729</td>\n",
       "    </tr>\n",
       "    <tr>\n",
       "      <th>grade_b</th>\n",
       "      <td>0.003672</td>\n",
       "    </tr>\n",
       "    <tr>\n",
       "      <th>grade_g</th>\n",
       "      <td>0.003217</td>\n",
       "    </tr>\n",
       "    <tr>\n",
       "      <th>region_northeast</th>\n",
       "      <td>0.003203</td>\n",
       "    </tr>\n",
       "    <tr>\n",
       "      <th>open_acc</th>\n",
       "      <td>0.003190</td>\n",
       "    </tr>\n",
       "    <tr>\n",
       "      <th>grade_d</th>\n",
       "      <td>0.003114</td>\n",
       "    </tr>\n",
       "    <tr>\n",
       "      <th>grade_a</th>\n",
       "      <td>0.002996</td>\n",
       "    </tr>\n",
       "    <tr>\n",
       "      <th>home_ownership_n_own</th>\n",
       "      <td>0.002907</td>\n",
       "    </tr>\n",
       "    <tr>\n",
       "      <th>purpose_g_debt</th>\n",
       "      <td>0.002643</td>\n",
       "    </tr>\n",
       "    <tr>\n",
       "      <th>term_60_months</th>\n",
       "      <td>0.002613</td>\n",
       "    </tr>\n",
       "    <tr>\n",
       "      <th>grade_c</th>\n",
       "      <td>0.002407</td>\n",
       "    </tr>\n",
       "    <tr>\n",
       "      <th>region_southwest</th>\n",
       "      <td>0.002262</td>\n",
       "    </tr>\n",
       "    <tr>\n",
       "      <th>region_west</th>\n",
       "      <td>0.001978</td>\n",
       "    </tr>\n",
       "    <tr>\n",
       "      <th>grade_e</th>\n",
       "      <td>0.001586</td>\n",
       "    </tr>\n",
       "    <tr>\n",
       "      <th>region_midwest</th>\n",
       "      <td>0.001348</td>\n",
       "    </tr>\n",
       "  </tbody>\n",
       "</table>\n",
       "</div>"
      ],
      "text/plain": [
       "                                            0\n",
       "fico_avg                             0.091251\n",
       "chargeoff_within_12_mths             0.080629\n",
       "revol_bal                            0.071078\n",
       "dti                                  0.067846\n",
       "delinq_2yrs                          0.066599\n",
       "earliest_cr_line_n                   0.052502\n",
       "annual_inc                           0.052238\n",
       "int_rate_n                           0.052201\n",
       "total_acc                            0.051533\n",
       "desc1                                0.050684\n",
       "year                                 0.048840\n",
       "pub_rec                              0.041581\n",
       "loan_amnt                            0.025422\n",
       "inq_last_6mths                       0.021165\n",
       "emp_length_n_0_year                  0.018093\n",
       "emp_length_n_1-5_years               0.016401\n",
       "emp_length_n_10+_years               0.015369\n",
       "installment                          0.013225\n",
       "grade_f                              0.012482\n",
       "application_type_individual          0.012354\n",
       "pub_rec_bankruptcies                 0.011865\n",
       "home_ownership_n_mortgage            0.009322\n",
       "revol_util_n                         0.008736\n",
       "purpose_g_major_purchase             0.008259\n",
       "term_36_months                       0.007373\n",
       "verification_status_verified         0.006718\n",
       "emp_length_n_6-9_years               0.006379\n",
       "region_southeast                     0.005393\n",
       "verification_status_not_verified     0.005317\n",
       "purpose_g_other                      0.005199\n",
       "home_ownership_n_other               0.004749\n",
       "verification_status_source_verified  0.004713\n",
       "purpose_g_life_event                 0.004700\n",
       "application_type_joint_app           0.004517\n",
       "employ_employed                      0.004399\n",
       "home_ownership_n_rent                0.003729\n",
       "grade_b                              0.003672\n",
       "grade_g                              0.003217\n",
       "region_northeast                     0.003203\n",
       "open_acc                             0.003190\n",
       "grade_d                              0.003114\n",
       "grade_a                              0.002996\n",
       "home_ownership_n_own                 0.002907\n",
       "purpose_g_debt                       0.002643\n",
       "term_60_months                       0.002613\n",
       "grade_c                              0.002407\n",
       "region_southwest                     0.002262\n",
       "region_west                          0.001978\n",
       "grade_e                              0.001586\n",
       "region_midwest                       0.001348"
      ]
     },
     "execution_count": 23,
     "metadata": {},
     "output_type": "execute_result"
    }
   ],
   "source": [
    "df = pd.DataFrame().append(zipped, ignore_index=True).T.sort_values(by=0,ascending=False)\n",
    "df"
   ]
  },
  {
   "cell_type": "markdown",
   "metadata": {},
   "source": [
    "### Naive Bayes"
   ]
  },
  {
   "cell_type": "code",
   "execution_count": 24,
   "metadata": {},
   "outputs": [
    {
     "name": "stdout",
     "output_type": "stream",
     "text": [
      "0.6090264613532118\n",
      "             precision    recall  f1-score   support\n",
      "\n",
      "          0       0.82      0.82      0.82    406453\n",
      "          1       0.40      0.40      0.40    123537\n",
      "\n",
      "avg / total       0.72      0.72      0.72    529990\n",
      "\n"
     ]
    }
   ],
   "source": [
    "nb = naive_bayes.GaussianNB()\n",
    "nb.fit(X_train, y_train)\n",
    "\n",
    "print(roc_auc_score(y_test, nb.predict(X_test)))\n",
    "fpr_nb_all, tpr_nb_all, _ = roc_curve(y_test, nb.predict_proba(X_test)[::,1])\n",
    "auc_nb_all=round(auc(fpr_nb_all, tpr_nb_all),3)\n",
    "print(classification_report(y_test, nb.predict(X_test)))"
   ]
  },
  {
   "cell_type": "code",
   "execution_count": 45,
   "metadata": {},
   "outputs": [],
   "source": [
    "auc_nb_all=round(auc(fpr_nb_all, tpr_nb_all),3)"
   ]
  },
  {
   "cell_type": "code",
   "execution_count": 26,
   "metadata": {},
   "outputs": [
    {
     "data": {
      "text/plain": [
       "[0.56, 0.5, 0.46, 0.42, 0.4, 0.38, 0.35, 0.33, 0.29]"
      ]
     },
     "execution_count": 26,
     "metadata": {},
     "output_type": "execute_result"
    }
   ],
   "source": [
    "threshold=np.arange(0.1,1,0.1)\n",
    "recall_nb_all=[]\n",
    "for i in threshold:\n",
    "    predicted_proba_nb_all = nb.predict_proba(X_test)\n",
    "    predicted_nb_all= (predicted_proba_nb_all[:,1] >= i).astype('int')\n",
    "    recall=float(classification_report(y_test, predicted_nb_all).split()[11])\n",
    "    recall_nb_all.append(recall)\n",
    "recall_nb_all"
   ]
  },
  {
   "cell_type": "code",
   "execution_count": 27,
   "metadata": {},
   "outputs": [],
   "source": [
    "f1_nb_all=round(f1_score(y_test,nb.predict(X_test)),3)"
   ]
  },
  {
   "cell_type": "markdown",
   "metadata": {},
   "source": [
    "### Decision Tree"
   ]
  },
  {
   "cell_type": "code",
   "execution_count": 28,
   "metadata": {},
   "outputs": [
    {
     "name": "stdout",
     "output_type": "stream",
     "text": [
      "0.5619966514631023\n",
      "             precision    recall  f1-score   support\n",
      "\n",
      "          0       0.80      0.78      0.79    406453\n",
      "          1       0.32      0.34      0.33    123537\n",
      "\n",
      "avg / total       0.69      0.68      0.68    529990\n",
      "\n"
     ]
    }
   ],
   "source": [
    "dt = DecisionTreeClassifier()\n",
    "dt.fit(X_train, y_train)\n",
    "\n",
    "print(roc_auc_score(y_test, dt.predict(X_test)))\n",
    "fpr_dt_all, tpr_dt_all, _ = roc_curve(y_test, dt.predict_proba(X_test)[::,1])\n",
    "auc_dt_all=round(auc(fpr_dt_all, tpr_dt_all),3)\n",
    "print(classification_report(y_test, dt.predict(X_test)))"
   ]
  },
  {
   "cell_type": "code",
   "execution_count": 29,
   "metadata": {},
   "outputs": [],
   "source": [
    "f1_dt_all=round(f1_score(y_test,dt.predict(X_test)),3)"
   ]
  },
  {
   "cell_type": "markdown",
   "metadata": {},
   "source": [
    "### SVM"
   ]
  },
  {
   "cell_type": "code",
   "execution_count": 30,
   "metadata": {},
   "outputs": [],
   "source": [
    "s = observations.sample(100000)\n"
   ]
  },
  {
   "cell_type": "code",
   "execution_count": 31,
   "metadata": {},
   "outputs": [
    {
     "data": {
      "text/plain": [
       "0    76862\n",
       "1    23138\n",
       "Name: loan_status_bin, dtype: int64"
      ]
     },
     "execution_count": 31,
     "metadata": {},
     "output_type": "execute_result"
    }
   ],
   "source": [
    "s.loan_status_bin.value_counts()"
   ]
  },
  {
   "cell_type": "code",
   "execution_count": 32,
   "metadata": {},
   "outputs": [
    {
     "name": "stderr",
     "output_type": "stream",
     "text": [
      "/home/ubuntu/anaconda3/lib/python3.6/site-packages/sklearn/utils/validation.py:475: DataConversionWarning: Data with input dtype int64 was converted to float64 by StandardScaler.\n",
      "  warnings.warn(msg, DataConversionWarning)\n"
     ]
    }
   ],
   "source": [
    "y_s_all = s['loan_status_bin']\n",
    "X_s_all = mapper.fit_transform(s)\n",
    "X_strain_all, X_stest_all, y_strain_all, y_stest_all = train_test_split(X_s_all, y_s_all, test_size=0.4,random_state=42)"
   ]
  },
  {
   "cell_type": "code",
   "execution_count": 33,
   "metadata": {},
   "outputs": [
    {
     "name": "stdout",
     "output_type": "stream",
     "text": [
      "             precision    recall  f1-score   support\n",
      "\n",
      "          0       0.79      0.97      0.87     30834\n",
      "          1       0.57      0.12      0.19      9166\n",
      "\n",
      "avg / total       0.74      0.78      0.72     40000\n",
      "\n",
      "0.725\n"
     ]
    }
   ],
   "source": [
    "svm = SVC(kernel='linear',probability=True)\n",
    "svm.fit(X_strain_all, y_strain_all)\n",
    "print(classification_report(y_stest_all, svm.predict(X_stest_all)))\n",
    "fpr_svm_all, tpr_svm_all, _ = roc_curve(y_stest_all, svm.predict_proba(X_stest_all)[::,1])\n",
    "auc_svm_all=round(auc(fpr_svm_all, tpr_svm_all),3)\n",
    "#print(roc_auc_score(y_stest_all, svm.predict(X_stest_all)))\n",
    "print(auc_svm_all)"
   ]
  },
  {
   "cell_type": "code",
   "execution_count": 34,
   "metadata": {},
   "outputs": [],
   "source": [
    "auc_svm_all=round(auc(fpr_svm_all, tpr_svm_all),3)"
   ]
  },
  {
   "cell_type": "code",
   "execution_count": 35,
   "metadata": {},
   "outputs": [
    {
     "data": {
      "text/plain": [
       "[0.92, 0.7, 0.46, 0.27, 0.13, 0.05, 0.01, 0.0, 0.0]"
      ]
     },
     "execution_count": 35,
     "metadata": {},
     "output_type": "execute_result"
    }
   ],
   "source": [
    "threshold=np.arange(0.1,1,0.1)\n",
    "recall_svm_all=[]\n",
    "for i in threshold:\n",
    "    predicted_proba_svm_all = svm.predict_proba(X_stest_all)\n",
    "    predicted_svm_all= (predicted_proba_svm_all[:,1] >= i).astype('int')\n",
    "    recall=float(classification_report(y_stest_all, predicted_svm_all).split()[11])\n",
    "    recall_svm_all.append(recall)\n",
    "recall_svm_all"
   ]
  },
  {
   "cell_type": "code",
   "execution_count": 36,
   "metadata": {},
   "outputs": [],
   "source": [
    "f1_svm_all=round(f1_score(y_stest_all,svm.predict(X_stest_all)),3)"
   ]
  },
  {
   "cell_type": "code",
   "execution_count": 123,
   "metadata": {},
   "outputs": [
    {
     "data": {
      "text/plain": [
       "[0.38, 0.4, 0.43, 0.45, 0.48, 0.47, 0.4, 0.2, 0.02]"
      ]
     },
     "execution_count": 123,
     "metadata": {},
     "output_type": "execute_result"
    }
   ],
   "source": [
    "threshold=np.arange(0.1,1,0.1)\n",
    "f1_svm_all_list=[]\n",
    "for i in threshold:\n",
    "    predicted_proba_svm_all = svm.predict_proba(X_stest_all)\n",
    "    predicted_svm_all= (predicted_proba_svm_all[:,1] >= i).astype('int')\n",
    "    f1_all=round(f1_score(y_stest_all,predicted_svm_all),2)\n",
    "    f1_svm_all_list.append(f1_all)\n",
    "f1_svm_all_list"
   ]
  },
  {
   "cell_type": "markdown",
   "metadata": {},
   "source": [
    "### KNN"
   ]
  },
  {
   "cell_type": "code",
   "execution_count": 37,
   "metadata": {},
   "outputs": [
    {
     "name": "stdout",
     "output_type": "stream",
     "text": [
      "             precision    recall  f1-score   support\n",
      "\n",
      "          0       0.80      0.91      0.85     30834\n",
      "          1       0.42      0.22      0.29      9166\n",
      "\n",
      "avg / total       0.71      0.75      0.72     40000\n",
      "\n",
      "0.64\n"
     ]
    }
   ],
   "source": [
    "knn = KNeighborsClassifier(n_neighbors=5)\n",
    "knn.fit(X_strain_all, y_strain_all)\n",
    "print(classification_report(y_stest_all, knn.predict(X_stest_all)))\n",
    "#print(roc_auc_score(y_stest_all, knn.predict(X_stest_all)))\n",
    "fpr_knn_all, tpr_knn_all, _ = roc_curve(y_stest_all, knn.predict_proba(X_stest_all)[::,1])\n",
    "auc_knn_all=round(auc(fpr_knn_all, tpr_knn_all),2)\n",
    "print(auc_knn_all)"
   ]
  },
  {
   "cell_type": "code",
   "execution_count": 38,
   "metadata": {},
   "outputs": [],
   "source": [
    "auc_knn_all=round(auc(fpr_knn_all, tpr_knn_all),3)"
   ]
  },
  {
   "cell_type": "code",
   "execution_count": 39,
   "metadata": {},
   "outputs": [],
   "source": [
    "f1_knn_all=round(f1_score(y_stest_all,knn.predict(X_stest_all)),3)"
   ]
  },
  {
   "cell_type": "markdown",
   "metadata": {},
   "source": [
    "### ROC Curve"
   ]
  },
  {
   "cell_type": "code",
   "execution_count": 46,
   "metadata": {},
   "outputs": [
    {
     "data": {
      "text/plain": [
       "<Figure size 432x288 with 0 Axes>"
      ]
     },
     "metadata": {},
     "output_type": "display_data"
    },
    {
     "data": {
      "image/png": "[encoded data removed]",
      "text/plain": [
       "<Figure size 432x432 with 1 Axes>"
      ]
     },
     "metadata": {},
     "output_type": "display_data"
    }
   ],
   "source": [
    "plt.figure(figsize=(6,6))\n",
    "plt.plot([0, 1], [0, 1], 'k--')\n",
    "plt.plot(fpr_gb_all, tpr_gb_all, label='GBT: AUC='+str(auc_gb_all));\n",
    "plt.plot(fpr_svm_all, tpr_svm_all, label='SVM: AUC='+str(auc_svm_all));\n",
    "plt.plot(fpr_rf_all, tpr_rf_all, label=('RF: AUC='+ str(auc_rf_all)));\n",
    "plt.plot(fpr_lg_all, tpr_lg_all, label='Logit: AUC='+str(auc_lg_all));\n",
    "plt.plot(fpr_nb_all, tpr_nb_all, label='NB: AUC='+str(auc_nb_all));\n",
    "plt.plot(fpr_knn_all, tpr_knn_all, label='KNN: AUC='+str(auc_knn_all));\n",
    "plt.plot(fpr_dt_all, tpr_dt_all, label='DT: AUC='+str(auc_dt_all));\n",
    "plt.xlabel('False positive rate',fontsize='12')\n",
    "plt.ylabel('True positive rate',fontsize='12')\n",
    "plt.title('ROC curve', fontsize='15')\n",
    "plt.legend(loc='best');\n",
    "plt.savefig('ROC.png', dpi=500);"
   ]
  },
  {
   "cell_type": "code",
   "execution_count": 48,
   "metadata": {},
   "outputs": [
    {
     "data": {
      "text/plain": [
       "<Figure size 432x288 with 0 Axes>"
      ]
     },
     "metadata": {},
     "output_type": "display_data"
    },
    {
     "data": {
      "image/png": "[encoded data removed]",
      "text/plain": [
       "<Figure size 432x432 with 1 Axes>"
      ]
     },
     "metadata": {},
     "output_type": "display_data"
    }
   ],
   "source": [
    "plt.figure(figsize=(6,6))\n",
    "plt.xlim(0, 0.5)\n",
    "plt.ylim(0.3, 0.8)\n",
    "plt.plot([0, 1], [0, 1], 'k--')\n",
    "plt.plot(fpr_gb_all, tpr_gb_all, label='GBT: F1='+str(f1_gb_all))\n",
    "plt.plot(fpr_svm_all, tpr_svm_all, label='SVM: F1='+str(f1_svm_all))\n",
    "plt.plot(fpr_rf_all, tpr_rf_all, label=('RF: F1='+ str(f1_rf_all)))\n",
    "plt.plot(fpr_lg_all, tpr_lg_all, label='Logit: F1='+str(f1_lg_all))\n",
    "#plt.plot(fpr_nb_all, tpr_nb_all, label='NB: F1='+str(f1_nb_all))\n",
    "#plt.plot(fpr_knn_all, tpr_knn_all, label='KNN: F1='+str(f1_knn_all))\n",
    "#plt.plot(fpr_dt_all, tpr_dt_all, label='DT: F1='+str(f1_dt_all))\n",
    "plt.xlabel('False positive rate',fontsize='12')\n",
    "plt.ylabel('True positive rate',fontsize='12')\n",
    "plt.title('ROC curve (zoomed in at top left)',fontsize='15')\n",
    "plt.legend(loc='best')\n",
    "plt.savefig('ROC-Zoom.png', dpi=500);"
   ]
  },
  {
   "cell_type": "code",
   "execution_count": 136,
   "metadata": {},
   "outputs": [
    {
     "data": {
      "image/png": "[encoded data removed]",
      "text/plain": [
       "<Figure size 432x432 with 1 Axes>"
      ]
     },
     "metadata": {},
     "output_type": "display_data"
    }
   ],
   "source": [
    "plt.figure(figsize=(6,6))\n",
    "plt.plot(threshold, f1_gb_all_list, label='GBT')\n",
    "plt.plot(threshold, f1_rf_all_list, label='RF')\n",
    "plt.plot(threshold, f1_lg_all_list, label='Logit')\n",
    "plt.plot(threshold, f1_svm_all_list, label='SVM')\n",
    "#plt.plot(fpr_svm, tpr_svm, label='SVM')\n",
    "plt.xlabel('Threshold', fontsize='12')\n",
    "plt.ylabel('F1 score',fontsize='12')\n",
    "plt.title('Model performance at different thresholds', fontsize='15')\n",
    "plt.legend(loc='best');\n",
    "plt.savefig('F1.png', dpi=500)\n"
   ]
  },
  {
   "cell_type": "markdown",
   "metadata": {},
   "source": [
    "# Balanced subset"
   ]
  },
  {
   "cell_type": "code",
   "execution_count": 138,
   "metadata": {},
   "outputs": [],
   "source": [
    "g = observations.groupby('loan_status_bin')\n",
    "subset=g.apply(lambda x: x.sample((g.size().min())//5))"
   ]
  },
  {
   "cell_type": "code",
   "execution_count": 139,
   "metadata": {},
   "outputs": [
    {
     "data": {
      "text/plain": [
       "1    49406\n",
       "0    49406\n",
       "Name: loan_status_bin, dtype: int64"
      ]
     },
     "execution_count": 139,
     "metadata": {},
     "output_type": "execute_result"
    }
   ],
   "source": [
    "subset.loan_status_bin.value_counts()"
   ]
  },
  {
   "cell_type": "code",
   "execution_count": 140,
   "metadata": {},
   "outputs": [
    {
     "name": "stderr",
     "output_type": "stream",
     "text": [
      "/home/ubuntu/anaconda3/lib/python3.6/site-packages/sklearn/utils/validation.py:475: DataConversionWarning: Data with input dtype int64 was converted to float64 by StandardScaler.\n",
      "  warnings.warn(msg, DataConversionWarning)\n"
     ]
    }
   ],
   "source": [
    "y_s = subset['loan_status_bin']\n",
    "X_s = mapper.fit_transform(subset)\n"
   ]
  },
  {
   "cell_type": "code",
   "execution_count": 141,
   "metadata": {},
   "outputs": [],
   "source": [
    "X_strain, X_stest, y_strain, y_stest = train_test_split(X_s, y_s, test_size=0.5,random_state=42)"
   ]
  },
  {
   "cell_type": "markdown",
   "metadata": {},
   "source": [
    "### GridSearch"
   ]
  },
  {
   "cell_type": "code",
   "execution_count": null,
   "metadata": {},
   "outputs": [],
   "source": [
    "import logging\n",
    "\n",
    "import numpy\n",
    "from sklearn.decomposition import PCA\n",
    "from sklearn.ensemble import GradientBoostingClassifier\n",
    "from sklearn.model_selection import RandomizedSearchCV\n",
    "from sklearn.pipeline import Pipeline\n",
    "from sklearn.svm import SVC\n",
    "\n",
    "\n",
    "def generate_gbm_model(X_train, y_train):\n",
    "    logging.info('Training gbm model')\n",
    "\n",
    "    # Create pipeline\n",
    "    pipe = Pipeline(steps=[('gbm', GradientBoostingClassifier())])\n",
    "\n",
    "    # Create param grid\n",
    "    params = {\n",
    "        'gbm__learning_rate': numpy.logspace(-2, 0, 4),\n",
    "        'gbm__n_estimators': numpy.arange(20, 200, 40),\n",
    "        'gbm__max_depth': numpy.arange(1, 15, 3),\n",
    "        'gbm__max_features': ['sqrt', 'log2']\n",
    "    }\n",
    "\n",
    "    # Create estimator\n",
    "    estimator = RandomizedSearchCV(pipe, params, n_iter=3,scoring='roc_auc')\n",
    "\n",
    "    # Train estimator\n",
    "    estimator.fit(X_train, y_train)\n",
    "\n",
    "    return estimator\n",
    "\n",
    "\n",
    "def generate_svm_model(X_train, y_train):\n",
    "    logging.info('Training svm model')\n",
    "\n",
    "    # Create pipeline\n",
    "    pipe = Pipeline(steps=[('pca', PCA()), ('svm', SVC(probability=True))])\n",
    "\n",
    "    # Create param grid\n",
    "    params = {\n",
    "        'pca__n_components': [1, 2, 4, 6, 8, None],\n",
    "        'pca__whiten': [False, True],\n",
    "        'svm__kernel': ['linear', 'poly', 'rbf'],\n",
    "        'svm__degree': numpy.arange(1, 15, 3),\n",
    "    }\n",
    "\n",
    "    # Create estimator\n",
    "    estimator = RandomizedSearchCV(pipe, params, n_iter=3)\n",
    "\n",
    "    # Train estimator\n",
    "    estimator.fit(X_train, y_train)\n",
    "\n",
    "    return estimator\n",
    "\n",
    "def generate_rfm_model(X_train, y_train):\n",
    "    logging.info('Training rfm model')\n",
    "\n",
    "    # Create pipeline\n",
    "    pipe = Pipeline(steps=[('rfm', RandomForestClassifier())])\n",
    "\n",
    "    # Create param grid\n",
    "    params = {\n",
    "        'rfm__n_estimators': numpy.arange(20,200,40),\n",
    "        'rfm__max_depth': numpy.arange(1, 15, 3),\n",
    "        'rfm__max_features': ['sqrt', 'log2']\n",
    "    }\n",
    "\n",
    "    # Create estimator\n",
    "    estimator = RandomizedSearchCV(pipe, params, n_iter=3)\n",
    "\n",
    "    # Train estimator\n",
    "    estimator.fit(X_train, y_train)\n",
    "\n",
    "    return estimator\n",
    "\n",
    "def generate_lrm_model(X_train, y_train):\n",
    "    logging.info('Training lrm model')\n",
    "\n",
    "    # Create pipeline\n",
    "    pipe = Pipeline(steps=[('lrm', LogisticRegression())])\n",
    "\n",
    "    # Create param grid\n",
    "    params = {\n",
    "        'lrm__C': numpy.arange(0.1, 5, 1)\n",
    "    }\n",
    "\n",
    "    # Create estimator\n",
    "    estimator = RandomizedSearchCV(pipe, params, n_iter=3)\n",
    "\n",
    "    # Train estimator\n",
    "    estimator.fit(X_train, y_train)\n",
    "\n",
    "    return estimator"
   ]
  },
  {
   "cell_type": "code",
   "execution_count": null,
   "metadata": {},
   "outputs": [],
   "source": [
    "model_functions = {'gbm': generate_gbm_model,\n",
    "                   #'svm': generate_svm_model,\n",
    "                   #'rfm': generate_rfm_model,\n",
    "                   #'lrm': generate_lrm_model\n",
    "                  }"
   ]
  },
  {
   "cell_type": "code",
   "execution_count": null,
   "metadata": {},
   "outputs": [],
   "source": [
    "from sklearn import metrics\n",
    "results = list()\n",
    "\n",
    "for (model_name, model_function) in model_functions.items():\n",
    "    local_dict = dict()\n",
    "    local_dict['model_label'] = model_name\n",
    "    estimator = model_function(X_strain_all, y_strain_all)\n",
    "    local_dict['estimator'] = estimator\n",
    "    test_preds = estimator.predict(X_stest_all)\n",
    "    local_dict['precision'] = metrics.precision_score(y_stest_all, test_preds)\n",
    "    local_dict['recall'] = metrics.recall_score(y_stest_all, test_preds)\n",
    "    local_dict['auc'] = metrics.roc_auc_score(y_stest_all, estimator.predict_proba(X_stest_all)[:, 1])\n",
    "    local_dict['best_params']=estimator.best_params_\n",
    "    results.append(local_dict)\n",
    "results = pandas.DataFrame(results)\n",
    "results"
   ]
  },
  {
   "cell_type": "code",
   "execution_count": null,
   "metadata": {},
   "outputs": [],
   "source": [
    "results.best_params[0]"
   ]
  },
  {
   "cell_type": "markdown",
   "metadata": {},
   "source": [
    "### Random Forest"
   ]
  },
  {
   "cell_type": "code",
   "execution_count": 61,
   "metadata": {},
   "outputs": [
    {
     "name": "stdout",
     "output_type": "stream",
     "text": [
      "0.6749921063497333\n",
      "0.6614919403806764\n",
      "0.7222843533982674\n",
      "             precision    recall  f1-score   support\n",
      "\n",
      "          0       0.67      0.63      0.65    123723\n",
      "          1       0.65      0.69      0.67    123311\n",
      "\n",
      "avg / total       0.66      0.66      0.66    247034\n",
      "\n"
     ]
    }
   ],
   "source": [
    "randomforest = RandomForestClassifier(n_estimators=80,max_depth=10,max_features= 'sqrt',random_state=42)\n",
    "randomforest.fit(X_strain, y_strain)\n",
    "print(accuracy_score(y_strain,randomforest.predict(X_strain)))\n",
    "accuracy_rf=accuracy_score(y_stest,randomforest.predict(X_stest))\n",
    "print(accuracy_rf)\n",
    "print(roc_auc_score(y_stest, randomforest.predict_proba(X_stest)[::,1]))\n",
    "fpr_rf, tpr_rf, _ = roc_curve(y_stest, randomforest.predict_proba(X_stest)[::,1])\n",
    "print(classification_report(y_stest, randomforest.predict(X_stest)))"
   ]
  },
  {
   "cell_type": "code",
   "execution_count": 62,
   "metadata": {},
   "outputs": [],
   "source": [
    "auc_rf=round(auc(fpr_rf, tpr_rf),3)\n"
   ]
  },
  {
   "cell_type": "code",
   "execution_count": 64,
   "metadata": {},
   "outputs": [],
   "source": [
    "accuracy_rf=round(accuracy_rf,2)"
   ]
  },
  {
   "cell_type": "code",
   "execution_count": 129,
   "metadata": {},
   "outputs": [],
   "source": [
    "f1_rf=round(f1_score(y_stest,randomforest.predict(X_stest)),3)"
   ]
  },
  {
   "cell_type": "code",
   "execution_count": 130,
   "metadata": {},
   "outputs": [
    {
     "data": {
      "text/plain": [
       "0.676"
      ]
     },
     "execution_count": 130,
     "metadata": {},
     "output_type": "execute_result"
    }
   ],
   "source": [
    "f1_rf"
   ]
  },
  {
   "cell_type": "code",
   "execution_count": 65,
   "metadata": {},
   "outputs": [
    {
     "name": "stderr",
     "output_type": "stream",
     "text": [
      "/home/ubuntu/anaconda3/lib/python3.6/site-packages/sklearn/metrics/classification.py:1135: UndefinedMetricWarning: Precision and F-score are ill-defined and being set to 0.0 in labels with no predicted samples.\n",
      "  'precision', 'predicted', average, warn_for)\n"
     ]
    },
    {
     "data": {
      "text/plain": [
       "[1.0, 0.99, 0.94, 0.86, 0.69, 0.46, 0.21, 0.02, 0.0]"
      ]
     },
     "execution_count": 65,
     "metadata": {},
     "output_type": "execute_result"
    }
   ],
   "source": [
    "threshold=np.arange(0.1,1,0.1)\n",
    "recall_rf=[]\n",
    "for i in threshold:\n",
    "    predicted_proba_rf = randomforest.predict_proba(X_stest)\n",
    "    predicted_rf= (predicted_proba_rf [:,1] >= i).astype('int')\n",
    "    recall=float(classification_report(y_stest, predicted_rf).split()[11])\n",
    "    recall_rf.append(recall)\n",
    "recall_rf"
   ]
  },
  {
   "cell_type": "code",
   "execution_count": 103,
   "metadata": {},
   "outputs": [
    {
     "name": "stderr",
     "output_type": "stream",
     "text": [
      "/home/ubuntu/anaconda3/lib/python3.6/site-packages/sklearn/metrics/classification.py:1135: UndefinedMetricWarning: F-score is ill-defined and being set to 0.0 due to no predicted samples.\n",
      "  'precision', 'predicted', average, warn_for)\n"
     ]
    },
    {
     "data": {
      "text/plain": [
       "[0.67, 0.68, 0.7, 0.71, 0.68, 0.56, 0.33, 0.05, 0.0]"
      ]
     },
     "execution_count": 103,
     "metadata": {},
     "output_type": "execute_result"
    }
   ],
   "source": [
    "threshold=np.arange(0.1,1,0.1)\n",
    "f1_rf_list=[]\n",
    "for i in threshold:\n",
    "    predicted_proba_rf = randomforest.predict_proba(X_stest)\n",
    "    predicted_rf= (predicted_proba_rf [:,1] >= i).astype('int')\n",
    "    f1=round(f1_score(y_stest,predicted_rf),2)\n",
    "    f1_rf_list.append(f1)\n",
    "f1_rf_list"
   ]
  },
  {
   "cell_type": "markdown",
   "metadata": {},
   "source": [
    "### Gradient Boosting"
   ]
  },
  {
   "cell_type": "code",
   "execution_count": 67,
   "metadata": {},
   "outputs": [
    {
     "name": "stdout",
     "output_type": "stream",
     "text": [
      "0.6848409530671892\n",
      "0.6698308734830023\n",
      "0.732\n",
      "             precision    recall  f1-score   support\n",
      "\n",
      "          0       0.68      0.65      0.67    123723\n",
      "          1       0.66      0.68      0.67    123311\n",
      "\n",
      "avg / total       0.67      0.67      0.67    247034\n",
      "\n"
     ]
    }
   ],
   "source": [
    "gradboost =GradientBoostingClassifier(learning_rate=0.2,n_estimators=80,max_depth=6, max_features='sqrt')\n",
    "gradboost.fit(X_strain, y_strain)\n",
    "print(accuracy_score(y_strain,gradboost.predict(X_strain)))\n",
    "accuracy_gb=accuracy_score(y_stest,gradboost.predict(X_stest))\n",
    "print(accuracy_gb)\n",
    "fpr_gb, tpr_gb, _ = roc_curve(y_stest, gradboost.predict_proba(X_stest)[::,1])\n",
    "auc_gb=round(auc(fpr_gb, tpr_gb),3)\n",
    "print(auc_gb)\n",
    "print(classification_report(y_stest, gradboost.predict(X_stest)))"
   ]
  },
  {
   "cell_type": "code",
   "execution_count": 68,
   "metadata": {},
   "outputs": [],
   "source": [
    "accuracy_gb=round(accuracy_gb,2)"
   ]
  },
  {
   "cell_type": "code",
   "execution_count": 131,
   "metadata": {},
   "outputs": [],
   "source": [
    "f1_gb=round(f1_score(y_stest,gradboost.predict(X_stest)),3)"
   ]
  },
  {
   "cell_type": "code",
   "execution_count": 69,
   "metadata": {},
   "outputs": [
    {
     "data": {
      "text/plain": [
       "[1.0, 0.98, 0.92, 0.82, 0.68, 0.51, 0.3, 0.1, 0.0]"
      ]
     },
     "execution_count": 69,
     "metadata": {},
     "output_type": "execute_result"
    }
   ],
   "source": [
    "threshold=np.arange(0.1,1,0.1)\n",
    "recall_gb=[]\n",
    "for i in threshold:\n",
    "    predicted_proba_gb = gradboost.predict_proba(X_stest)\n",
    "    predicted_gb= (predicted_proba_gb [:,1] >= i).astype('int')\n",
    "    recall=float(classification_report(y_stest, predicted_gb).split()[11])\n",
    "    recall_gb.append(recall)\n",
    "recall_gb"
   ]
  },
  {
   "cell_type": "code",
   "execution_count": 107,
   "metadata": {},
   "outputs": [
    {
     "data": {
      "text/plain": [
       "[0.67, 0.69, 0.71, 0.71, 0.68, 0.6, 0.44, 0.19, 0.01]"
      ]
     },
     "execution_count": 107,
     "metadata": {},
     "output_type": "execute_result"
    }
   ],
   "source": [
    "threshold=np.arange(0.1,1,0.1)\n",
    "f1_gb_list=[]\n",
    "for i in threshold:\n",
    "    predicted_proba_gb = gradboost.predict_proba(X_stest)\n",
    "    predicted_gb= (predicted_proba_gb[:,1] >= i).astype('int')\n",
    "    f1=round(f1_score(y_stest,predicted_gb),2)\n",
    "    f1_gb_list.append(f1)\n",
    "f1_gb_list"
   ]
  },
  {
   "cell_type": "markdown",
   "metadata": {},
   "source": [
    "### Logistic Regression"
   ]
  },
  {
   "cell_type": "code",
   "execution_count": 70,
   "metadata": {},
   "outputs": [
    {
     "name": "stdout",
     "output_type": "stream",
     "text": [
      "0.6540233328205834\n",
      "0.6537237789130241\n",
      "0.7124552777551705\n"
     ]
    }
   ],
   "source": [
    "logreg = LogisticRegression()\n",
    "logreg.fit(X_strain, y_strain)\n",
    "print(accuracy_score(y_strain,logreg.predict(X_strain)))\n",
    "accuracy_lg=accuracy_score(y_stest,logreg.predict(X_stest))\n",
    "print(accuracy_lg)\n",
    "print(roc_auc_score(y_stest, logreg.predict_proba(X_stest)[::,1]))\n",
    "fpr_lg, tpr_lg, _ = roc_curve(y_stest, logreg.predict_proba(X_stest)[::,1])"
   ]
  },
  {
   "cell_type": "code",
   "execution_count": 71,
   "metadata": {},
   "outputs": [],
   "source": [
    "auc_lg=round(auc(fpr_lg, tpr_lg),3)"
   ]
  },
  {
   "cell_type": "code",
   "execution_count": 72,
   "metadata": {},
   "outputs": [],
   "source": [
    "accuracy_lg=round(accuracy_lg,2)"
   ]
  },
  {
   "cell_type": "code",
   "execution_count": 132,
   "metadata": {},
   "outputs": [],
   "source": [
    "f1_lg=round(f1_score(y_stest,logreg.predict(X_stest)),3)"
   ]
  },
  {
   "cell_type": "code",
   "execution_count": 73,
   "metadata": {},
   "outputs": [
    {
     "data": {
      "text/plain": [
       "[1.0, 0.98, 0.93, 0.83, 0.67, 0.46, 0.24, 0.06, 0.0]"
      ]
     },
     "execution_count": 73,
     "metadata": {},
     "output_type": "execute_result"
    }
   ],
   "source": [
    "threshold=np.arange(0.1,1,0.1)\n",
    "recall_lg=[]\n",
    "for i in threshold:\n",
    "    predicted_proba_lg = logreg.predict_proba(X_stest)\n",
    "    predicted_lg= (predicted_proba_lg [:,1] >= i).astype('int')\n",
    "    recall=float(classification_report(y_stest, predicted_lg).split()[11])\n",
    "    recall_lg.append(recall)\n",
    "recall_lg"
   ]
  },
  {
   "cell_type": "code",
   "execution_count": 108,
   "metadata": {},
   "outputs": [
    {
     "data": {
      "text/plain": [
       "[0.67, 0.68, 0.7, 0.7, 0.66, 0.56, 0.37, 0.12, 0.0]"
      ]
     },
     "execution_count": 108,
     "metadata": {},
     "output_type": "execute_result"
    }
   ],
   "source": [
    "threshold=np.arange(0.1,1,0.1)\n",
    "f1_lg_list=[]\n",
    "for i in threshold:\n",
    "    predicted_proba_lg = logreg.predict_proba(X_stest)\n",
    "    predicted_lg= (predicted_proba_lg[:,1] >= i).astype('int')\n",
    "    f1=round(f1_score(y_stest,predicted_lg),2)\n",
    "    f1_lg_list.append(f1)\n",
    "f1_lg_list"
   ]
  },
  {
   "cell_type": "markdown",
   "metadata": {},
   "source": [
    "### Naive Bayes"
   ]
  },
  {
   "cell_type": "code",
   "execution_count": null,
   "metadata": {},
   "outputs": [],
   "source": [
    "from sklearn import naive_bayes\n",
    "nb = naive_bayes.GaussianNB() # The likelihood of the features is assumed to be Gaussian\n",
    "nb.fit(X_strain, y_strain)\n",
    "\n",
    "print(classification_report(y_stest, nb.predict(X_stest)))\n",
    "\n",
    "print(roc_auc_score(y_stest, nb.predict(X_stest)))\n",
    "fpr_nb, tpr_nb, _ = roc_curve(y_stest, nb.predict_proba(X_stest)[::,1])"
   ]
  },
  {
   "cell_type": "code",
   "execution_count": null,
   "metadata": {},
   "outputs": [],
   "source": [
    "auc_nb=round(auc(fpr_nb, tpr_nb),3)\n",
    "accuracy_nb=round(accuracy_score(fpr_nb, tpr_nb),3)"
   ]
  },
  {
   "cell_type": "code",
   "execution_count": null,
   "metadata": {},
   "outputs": [],
   "source": [
    "threshold=np.arange(0.1,1,0.1)\n",
    "recall_nb=[]\n",
    "for i in threshold:\n",
    "    predicted_proba_nb = nb.predict_proba(X_stest)\n",
    "    predicted_nb= (predicted_proba_nb [:,1] >= i).astype('int')\n",
    "    recall=float(classification_report(y_stest, predicted_nb).split()[11])\n",
    "    recall_nb.append(recall)\n",
    "recall_nb"
   ]
  },
  {
   "cell_type": "markdown",
   "metadata": {},
   "source": [
    "### SVM"
   ]
  },
  {
   "cell_type": "code",
   "execution_count": 80,
   "metadata": {},
   "outputs": [
    {
     "name": "stdout",
     "output_type": "stream",
     "text": [
      "0.664676355098571\n",
      "             precision    recall  f1-score   support\n",
      "\n",
      "          0       0.67      0.63      0.65     24752\n",
      "          1       0.65      0.69      0.67     24654\n",
      "\n",
      "avg / total       0.66      0.66      0.66     49406\n",
      "\n",
      "0.6605140598370131\n"
     ]
    }
   ],
   "source": [
    "svm = SVC(kernel='linear',probability=True)\n",
    "svm.fit(X_strain, y_strain)\n",
    "print(accuracy_score(y_strain,svm.predict(X_strain)))\n",
    "accuracy_svm=accuracy_score(y_stest,svm.predict(X_stest))\n",
    "print(classification_report(y_stest, svm.predict(X_stest)))\n",
    "auc_svm=roc_auc_score(y_stest, svm.predict(X_stest))\n",
    "print(auc_svm)\n",
    "fpr_svm, tpr_svm, _ = roc_curve(y_stest, svm.predict_proba(X_stest)[::,1])\n"
   ]
  },
  {
   "cell_type": "code",
   "execution_count": 82,
   "metadata": {},
   "outputs": [],
   "source": [
    "auc_svm=round(auc_svm,3)"
   ]
  },
  {
   "cell_type": "code",
   "execution_count": 83,
   "metadata": {},
   "outputs": [],
   "source": [
    "accuracy_svm=round(accuracy_svm,2)"
   ]
  },
  {
   "cell_type": "code",
   "execution_count": 134,
   "metadata": {},
   "outputs": [],
   "source": [
    "f1_svm=round(f1_score(y_stest,svm.predict(X_stest)),3)"
   ]
  },
  {
   "cell_type": "code",
   "execution_count": 91,
   "metadata": {},
   "outputs": [
    {
     "data": {
      "text/plain": [
       "[1.0, 0.97, 0.92, 0.83, 0.7, 0.51, 0.3, 0.1, 0.01]"
      ]
     },
     "execution_count": 91,
     "metadata": {},
     "output_type": "execute_result"
    }
   ],
   "source": [
    "threshold=np.arange(0.1,1,0.1)\n",
    "recall_svm=[]\n",
    "for i in threshold:\n",
    "    predicted_proba_svm = svm.predict_proba(X_stest)\n",
    "    predicted_svm= (predicted_proba_svm [:,1] >= i).astype('int')\n",
    "    recall=float(classification_report(y_stest, predicted_svm).split()[11])\n",
    "    recall_svm.append(recall)\n",
    "recall_svm"
   ]
  },
  {
   "cell_type": "code",
   "execution_count": 142,
   "metadata": {},
   "outputs": [
    {
     "data": {
      "text/plain": [
       "[0.67, 0.69, 0.7, 0.7, 0.67, 0.59, 0.43, 0.19, 0.01]"
      ]
     },
     "execution_count": 142,
     "metadata": {},
     "output_type": "execute_result"
    }
   ],
   "source": [
    "threshold=np.arange(0.1,1,0.1)\n",
    "f1_svm_list=[]\n",
    "for i in threshold:\n",
    "    predicted_proba_svm = svm.predict_proba(X_stest)\n",
    "    predicted_svm= (predicted_proba_svm[:,1] >= i).astype('int')\n",
    "    f1=round(f1_score(y_stest,predicted_svm),2)\n",
    "    f1_svm_list.append(f1)\n",
    "f1_svm_list"
   ]
  },
  {
   "cell_type": "code",
   "execution_count": 85,
   "metadata": {},
   "outputs": [
    {
     "data": {
      "image/png": "[encoded data removed]",
      "text/plain": [
       "<Figure size 432x432 with 1 Axes>"
      ]
     },
     "metadata": {},
     "output_type": "display_data"
    }
   ],
   "source": [
    "plt.figure(figsize=(6,6))\n",
    "plt.plot([0, 1], [0, 1], 'k--')\n",
    "\n",
    "\n",
    "plt.plot(fpr_gb, tpr_gb, label='GBT: AUC='+str(auc_gb))\n",
    "plt.plot(fpr_rf, tpr_rf, label=('RF: AUC='+ str(auc_rf)))\n",
    "plt.plot(fpr_lg, tpr_lg, label='Logit: AUC='+str(auc_lg))\n",
    "plt.plot(fpr_svm, tpr_svm, label='SVM: AUC='+str(auc_svm))\n",
    "plt.xlabel('False positive rate',fontsize='12')\n",
    "plt.ylabel('True positive rate',fontsize='12')\n",
    "plt.title('ROC curve - balanced data',fontsize='15')\n",
    "plt.legend(loc='best')\n",
    "plt.savefig('ROC-ba.png', dpi=500);"
   ]
  },
  {
   "cell_type": "code",
   "execution_count": 135,
   "metadata": {},
   "outputs": [
    {
     "data": {
      "image/png": "[encoded data removed]",
      "text/plain": [
       "<Figure size 432x432 with 1 Axes>"
      ]
     },
     "metadata": {},
     "output_type": "display_data"
    }
   ],
   "source": [
    "plt.figure(figsize=(6,6))\n",
    "plt.xlim(0.5, 1)\n",
    "plt.ylim(0.8, 1)\n",
    "plt.plot([0, 1], [0, 1], 'k--')\n",
    "\n",
    "plt.plot(fpr_gb, tpr_gb, label='GBT: F1='+str(f1_gb))\n",
    "plt.plot(fpr_rf, tpr_rf, label=('RF: F1='+ str(f1_rf)))\n",
    "plt.plot(fpr_lg, tpr_lg, label='Logit: F1='+str(f1_lg))\n",
    "plt.plot(fpr_svm, tpr_svm, label='SVM: F1='+str(f1_svm))\n",
    "plt.xlabel('False positive rate',fontsize='12')\n",
    "plt.ylabel('True positive rate',fontsize='12')\n",
    "plt.title('ROC curve - balanced (zoomed in at top left)',fontsize='12')\n",
    "plt.legend(loc='best')\n",
    "plt.savefig('ROC-ba-zoom.png', dpi=500);"
   ]
  },
  {
   "cell_type": "code",
   "execution_count": 146,
   "metadata": {},
   "outputs": [
    {
     "data": {
      "image/png": "[encoded data removed]",
      "text/plain": [
       "<Figure size 360x360 with 1 Axes>"
      ]
     },
     "metadata": {},
     "output_type": "display_data"
    }
   ],
   "source": [
    "plt.figure(figsize=(5,5))\n",
    "plt.plot(threshold, f1_gb_list, label='GBT')\n",
    "plt.plot(threshold, f1_rf_list, label='RF')\n",
    "plt.plot(threshold, f1_lg_list, label='Logit')\n",
    "plt.plot(threshold, f1_svm_list, label='SVM')\n",
    "#plt.plot(fpr_svm, tpr_svm, label='SVM')\n",
    "plt.xlabel('Threshold',fontsize='12')\n",
    "plt.ylabel('F1 score',fontsize='12')\n",
    "plt.title('F1 score at different thresholds',fontsize='15')\n",
    "plt.legend(loc='best')\n",
    "plt.savefig('F1-ba.png', dpi=500);"
   ]
  },
  {
   "cell_type": "code",
   "execution_count": null,
   "metadata": {},
   "outputs": [],
   "source": []
  }
 ],
 "metadata": {
  "kernelspec": {
   "display_name": "Python 3",
   "language": "python",
   "name": "python3"
  },
  "language_info": {
   "codemirror_mode": {
    "name": "ipython",
    "version": 3
   },
   "file_extension": ".py",
   "mimetype": "text/x-python",
   "name": "python",
   "nbconvert_exporter": "python",
   "pygments_lexer": "ipython3",
   "version": "3.6.4"
  }
 },
 "nbformat": 4,
 "nbformat_minor": 2
}
